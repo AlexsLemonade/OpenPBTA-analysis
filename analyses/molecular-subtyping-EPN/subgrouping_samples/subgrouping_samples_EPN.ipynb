{
 "cells": [
  {
   "cell_type": "code",
   "execution_count": null,
   "metadata": {
    "scrolled": true
   },
   "outputs": [
    {
     "data": {
      "text/plain": [
       "<Figure size 1440x720 with 0 Axes>"
      ]
     },
     "metadata": {},
     "output_type": "display_data"
    },
    {
     "data": {
      "image/png": "[encoded data removed]",
      "text/plain": [
       "<Figure size 432x288 with 1 Axes>"
      ]
     },
     "metadata": {
      "needs_background": "light"
     },
     "output_type": "display_data"
    },
    {
     "data": {
      "image/png": "[encoded data removed]",
      "text/plain": [
       "<Figure size 432x288 with 1 Axes>"
      ]
     },
     "metadata": {
      "needs_background": "light"
     },
     "output_type": "display_data"
    },
    {
     "data": {
      "image/png": "[encoded data removed]",
      "text/plain": [
       "<Figure size 432x288 with 1 Axes>"
      ]
     },
     "metadata": {
      "needs_background": "light"
     },
     "output_type": "display_data"
    },
    {
     "data": {
      "image/png": "[encoded data removed]",
      "text/plain": [
       "<Figure size 432x288 with 1 Axes>"
      ]
     },
     "metadata": {
      "needs_background": "light"
     },
     "output_type": "display_data"
    },
    {
     "data": {
      "image/png": "[encoded data removed]",
      "text/plain": [
       "<Figure size 432x288 with 1 Axes>"
      ]
     },
     "metadata": {
      "needs_background": "light"
     },
     "output_type": "display_data"
    }
   ],
   "source": [
    "import pandas as pd\n",
    "import numpy as np \n",
    "import  pyreadr\n",
    "import sys\n",
    "from matplotlib import pyplot as plt\n",
    "\n",
    "EPN_final = pd.read_csv(\"/Users/kogantit/Documents/OpenPBTA/OpenPBTA-analysis/analyses/molecular-subtyping-EPN/results/EPN_all_data.tsv\", sep=\"\\t\")\n",
    "\n",
    "ST_EPN_RELA = []\n",
    "ST_EPN_YAP1 = []\n",
    "PT_EPN_A = []\n",
    "PT_EPN_B = []\n",
    "\n",
    "\n",
    "\n",
    "def addsampletosubtype_removefromdf(EPN_df, subtypelistname, sample_list):\n",
    "    subtypelistname.extend(sample_list)\n",
    "    EPN_df = EPN_df[~EPN_df['sample_id'].isin(sample_list)]\n",
    "    return(EPN_df, subtypelistname)\n",
    "\n",
    "#### Looking for  ST_EPN_RELA sub-group samples\n",
    "# PTEN--TAS2R1 fusion column is all zeros \n",
    "EPN_final, ST_EPN_RELA =  addsampletosubtype_removefromdf(EPN_final, ST_EPN_RELA, \n",
    "                            EPN_final.loc[EPN_final['C11orf95--RELA'] > 0][\"sample_id\"].tolist())\n",
    "# This whole column is zeros \n",
    "EPN_final, ST_EPN_RELA =  addsampletosubtype_removefromdf(EPN_final, ST_EPN_RELA, \n",
    "                            EPN_final.loc[EPN_final['LTBP3--RELA'] > 0][\"sample_id\"].tolist())\n",
    "# This column is empty EPN_final[\"PTEN--TAS2R1_fusion\"]\n",
    "\n",
    "EPN_final, ST_EPN_RELA =  addsampletosubtype_removefromdf(EPN_final, ST_EPN_RELA, \n",
    "                            EPN_final.loc[EPN_final['9p_loss'] > 0][\"sample_id\"].tolist())\n",
    "#This whole column is zeros \n",
    "EPN_final, ST_EPN_RELA =  addsampletosubtype_removefromdf(EPN_final, ST_EPN_RELA, \n",
    "                            EPN_final.loc[EPN_final['9q_loss'] > 0][\"sample_id\"].tolist())\n",
    "# Cannot find clear outliers from the histogram plots for RELA Z-scores \n",
    "#EPN_final, ST_EPN_RELA =  addsampletosubtype_removefromdf(EPN_final, ST_EPN_RELA, \n",
    "#                            list(EPN_final.loc[EPN_final['RELA_expr_zscore'] > 3][\"sample_id\"]))\n",
    "# One Z-score above 3 \n",
    "fig = plt.figure(figsize=(20,10))\n",
    "L1CAM_fig = plt.figure()\n",
    "plt.hist(list(EPN_final[\"L1CAM_expr_zscore\"])) \n",
    "plt.suptitle('L1CAM expression')\n",
    "plt.show()\n",
    "fig.savefig('/Users/kogantit/Documents/OpenPBTA/OpenPBTA-analysis/analyses/molecular-subtyping-EPN/L1CAM_hist.png', dpi=L1CAM_fig.dpi)\n",
    "EPN_final, ST_EPN_RELA =  addsampletosubtype_removefromdf(EPN_final, ST_EPN_RELA, \n",
    "                            EPN_final.loc[EPN_final['L1CAM_expr_zscore'] > 3][\"sample_id\"].tolist())\n",
    "# Look for CDKN2A loss \n",
    "EPN_final, ST_EPN_RELA =  addsampletosubtype_removefromdf(EPN_final, ST_EPN_RELA, \n",
    "                            EPN_final.loc[EPN_final['consensus_focal_CN_CDKN2'] == \"loss\"][\"sample_id\"].tolist())\n",
    "\n",
    "\n",
    "\n",
    "#### Looking for  ST_EPN_YAP1 sub-group samples\n",
    "# All zeros column\n",
    "EPN_final, ST_EPN_YAP1 = addsampletosubtype_removefromdf(EPN_final, ST_EPN_YAP1, \n",
    "                            EPN_final.loc[EPN_final['C11orf95--YAP1'] > 0][\"sample_id\"].tolist())\n",
    "EPN_final, ST_EPN_YAP1 = addsampletosubtype_removefromdf(EPN_final, ST_EPN_YAP1, \n",
    "                            EPN_final.loc[EPN_final['YAP1--MAMLD1'] > 0][\"sample_id\"].tolist())\n",
    "EPN_final, ST_EPN_YAP1 = addsampletosubtype_removefromdf(EPN_final, ST_EPN_YAP1, \n",
    "                            EPN_final.loc[EPN_final['C11orf95--MAML2'] > 0][\"sample_id\"].tolist())\n",
    "# All zeros\n",
    "EPN_final, ST_EPN_YAP1 = addsampletosubtype_removefromdf(EPN_final, ST_EPN_YAP1, \n",
    "                            EPN_final.loc[EPN_final['YAP1--FAM118B'] > 0][\"sample_id\"].tolist())\n",
    "# All zeros\n",
    "EPN_final, ST_EPN_YAP1 = addsampletosubtype_removefromdf(EPN_final, ST_EPN_YAP1, \n",
    "                            EPN_final.loc[EPN_final['11q_loss'] > 0][\"sample_id\"].tolist())\n",
    "EPN_final, ST_EPN_YAP1 = addsampletosubtype_removefromdf(EPN_final, ST_EPN_YAP1, \n",
    "                            EPN_final.loc[EPN_final['11q_gain'] > 0][\"sample_id\"].tolist())\n",
    "# Two sample higher than 1.7, look like outliers based on histogram\n",
    "ARL4D_fig = plt.figure()\n",
    "plt.hist(list(EPN_final[\"ARL4D_expr_zscore\"])) \n",
    "plt.suptitle('ARL4D expression')\n",
    "plt.show()\n",
    "fig.savefig('/Users/kogantit/Documents/OpenPBTA/OpenPBTA-analysis/analyses/molecular-subtyping-EPN/ARL4D_hist.png', dpi=ARL4D_fig.dpi)\n",
    "EPN_final, ST_EPN_YAP1 = addsampletosubtype_removefromdf(EPN_final, ST_EPN_YAP1, \n",
    "                            EPN_final.loc[EPN_final['ARL4D_expr_zscore'] > 1.5][\"sample_id\"].tolist())\n",
    "# One sample higher than 1.0, another sample at 0.28 also look like an outlier but a cutoff value of 0.25 maybe too small?? \n",
    "CLDN1_fig = plt.figure()\n",
    "plt.hist(list(EPN_final[\"CLDN1_expr_zscore\"])) \n",
    "plt.suptitle('CLDN1 expression')\n",
    "plt.show()\n",
    "fig.savefig('/Users/kogantit/Documents/OpenPBTA/OpenPBTA-analysis/analyses/molecular-subtyping-EPN/ARL4D_hist.png', dpi=CLDN1_fig.dpi)\n",
    "EPN_final, ST_EPN_YAP1 = addsampletosubtype_removefromdf(EPN_final, ST_EPN_YAP1, \n",
    "                            EPN_final.loc[EPN_final['CLDN1_expr_zscore'] > 1][\"sample_id\"].tolist())\n",
    "\n",
    "\n",
    "\n",
    "\n",
    "#### Looking for  PT_EPN_A sub-group samples\n",
    "\n",
    "EPN_final, PT_EPN_A = addsampletosubtype_removefromdf(EPN_final, PT_EPN_A, \n",
    "                           EPN_final.loc[EPN_final['1q_loss'] > 0][\"sample_id\"].tolist())\n",
    "# Anythong above 2 Z-score looks like an outlier\n",
    "TKTL1_fig = plt.figure()\n",
    "plt.hist(list(EPN_final[\"TKTL1_expr_zscore\"])) \n",
    "plt.suptitle('TKTL1 expression')\n",
    "plt.show()\n",
    "fig.savefig('/Users/kogantit/Documents/OpenPBTA/OpenPBTA-analysis/analyses/molecular-subtyping-EPN/TKTL1_hist.png', dpi=TKTL1_fig.dpi)\n",
    "EPN_final, PT_EPN_A = addsampletosubtype_removefromdf(EPN_final, PT_EPN_A, \n",
    "                            EPN_final.loc[EPN_final['TKTL1_expr_zscore'] > 1][\"sample_id\"].tolist())\n",
    "# Any score above 2.0? Two samples at 2.03 and 2.07. Not includng this one in the PF_EPN_A\n",
    "CXorf67_fig = plt.figure()\n",
    "plt.hist(list(EPN_final[\"CXorf67_expr_zscore\"])) \n",
    "plt.suptitle('CXorf67 expression')\n",
    "plt.show()\n",
    "fig.savefig('/Users/kogantit/Documents/OpenPBTA/OpenPBTA-analysis/analyses/molecular-subtyping-EPN/CXorf67_hist.png', dpi=CXorf67_fig.dpi)\n",
    "EPN_final, PT_EPN_A = addsampletosubtype_removefromdf(EPN_final, PT_EPN_A, \n",
    "                            EPN_final.loc[EPN_final['CXorf67_expr_zscore'] > 2.10][\"sample_id\"].tolist())\n",
    "\n",
    "\n",
    "\n",
    "\n",
    "#### Looking for  PT_EPN_B sub-group samples\n",
    "EPN_final, PT_EPN_B = addsampletosubtype_removefromdf(EPN_final, PT_EPN_B, \n",
    "                            EPN_final.loc[EPN_final['6q_loss'] > 0][\"sample_id\"].tolist())\n",
    "#All zeros column \n",
    "EPN_final, PT_EPN_B = addsampletosubtype_removefromdf(EPN_final, PT_EPN_B, \n",
    "                            EPN_final.loc[EPN_final['6p_loss'] > 0][\"sample_id\"].tolist())\n",
    "# Two sample with Z-scores above 3\n",
    "IFT46_fig = plt.figure()\n",
    "plt.hist(list(EPN_final[\"IFT46_expr_zscore\"])) \n",
    "plt.suptitle('IFT46 expression')\n",
    "plt.show()\n",
    "fig.savefig('/Users/kogantit/Documents/OpenPBTA/OpenPBTA-analysis/analyses/molecular-subtyping-EPN/IFT46_hist.png', dpi=IFT46_fig.dpi)\n",
    "EPN_final, PT_EPN_B = addsampletosubtype_removefromdf(EPN_final, PT_EPN_B, \n",
    "                            EPN_final.loc[EPN_final['IFT46_expr_zscore'] > 3][\"sample_id\"].tolist())\n",
    "# Look at GPB1 expression Z-scores  \n",
    "GPBP1_fig = plt.figure()\n",
    "plt.hist(list(EPN_final[\"GPBP1_expr_zscore\"])) \n",
    "plt.suptitle('GPBP1 expression')\n",
    "plt.show()\n",
    "fig.savefig('/Users/kogantit/Documents/OpenPBTA/OpenPBTA-analysis/analyses/molecular-subtyping-EPN/GPBP1_hist.png', dpi=GPBP1_fig.dpi)\n",
    "EPN_final, PT_EPN_B = addsampletosubtype_removefromdf(EPN_final, PT_EPN_B, \n",
    "                            list(EPN_final.loc[EPN_final['GPBP1_expr_zscore'] > 2][\"sample_id\"]))\n",
    "\n",
    "\n",
    "\n",
    "\n",
    "# GSEA pathway score histogram \n",
    "fig = plt.figure()\n",
    "plt.hist(list(EPN_final[\"NFKB_pathway_GSEAscore\"])) \n",
    "plt.suptitle('NFKB pathway GSEA score')\n",
    "plt.show()\n",
    "fig.savefig('/Users/kogantit/Documents/OpenPBTA/OpenPBTA-analysis/analyses/molecular-subtyping-EPN/NFKB_hist.png', dpi=fig.dpi)\n",
    "\n",
    "\n",
    "print(EPN_final.shape, len(ST_EPN_RELA), len(ST_EPN_YAP1), len(PT_EPN_A), len(PT_EPN_B))\n",
    "\n",
    "# Not used above - \"GISTIC_focal_CN_CDKN2A\" - Values range from -0.1, 0.0 and 2.0. Only one sample has 2.0, should that be included in ST_EPN_RELA\n",
    "# Not used above - \"breaks_density-chromosomal_instability_CNV\" - no outliers\n",
    "# Not used above - \"breaks_density-chromosomal_instability_SV\" - no outliers\n",
    "\n",
    "\n",
    "\n"
   ]
  },
  {
   "cell_type": "code",
   "execution_count": 13,
   "metadata": {},
   "outputs": [
    {
     "name": "stdout",
     "output_type": "stream",
     "text": [
      "[0.05589288994276436, 0.08089760386452736, 0.0897227970133849, 0.09045822977578967, 0.09634169187502804, 0.09928342292464724, 0.10369601949907599, 0.10443145226148078, 0.10957948159831432, 0.11105034712312392, 0.1147275109351479, 0.1147275109351479, 0.1257590023712198, 0.1264944351336246, 0.12943616618324374, 0.1301715989456486, 0.14193852314412528, 0.14267395590653004, 0.14782198524336362, 0.15811804391703074, 0.16105977496664994, 0.1632660732538643, 0.18459362336360333, 0.1867999216508177, 0.1890062199380321, 0.20739203899815198, 0.21180463557258072, 0.21254006833498554, 0.21695266490941428, 0.22283612700865266, 0.22357155977105744, 0.24931170645522524, 0.25004713921763005, 0.278729016951417, nan, nan, nan, 0.27284555485217865, nan, 0.29858570153634645, 0.3081463274476088, 0.3338864741317766, 0.4596454765029964, nan, nan] [-1.0, 0.0, 0.0, 0.0, 0.0, 0.0, 0.0, 0.0, 0.0, 0.0, 0.0, nan, 0.0, 0.0, 0.0, nan, 0.0, 0.0, 0.0, 0.0, 0.0, 0.0, 0.0, 0.0, 0.0, 0.0, 0.0, 0.0, 0.0, 0.0, 0.0, 0.0, 0.0, 2.0, nan, 0.0, 0.0, 0.0, 0.0, 0.0, nan, 0.0, 0.0, nan, nan]\n"
     ]
    }
   ],
   "source": [
    "print(sorted(EPN_final['breaks_density-chromosomal_instability_SV'])"
   ]
  },
  {
   "cell_type": "code",
   "execution_count": 54,
   "metadata": {},
   "outputs": [
    {
     "data": {
      "text/plain": [
       "[0.0,\n",
       " 0.0,\n",
       " 0.0,\n",
       " 0.0,\n",
       " 0.0,\n",
       " 0.0,\n",
       " 0.0,\n",
       " 0.0,\n",
       " 0.0,\n",
       " 0.0,\n",
       " 0.0,\n",
       " 0.0,\n",
       " 0.0,\n",
       " 0.0,\n",
       " 0.0007354327624047942,\n",
       " 0.0007354327624047942,\n",
       " 0.0007354327624047942,\n",
       " 0.0007354327624047942,\n",
       " 0.0007354327624047942,\n",
       " 0.0007354327624047942,\n",
       " 0.0022062982872143827,\n",
       " 0.0029417310496191768,\n",
       " 0.0029417310496191768,\n",
       " 0.0029417310496191768,\n",
       " 0.0044125965744287645,\n",
       " 0.0058834620992383535,\n",
       " 0.0058834620992383535,\n",
       " 0.006618894861643148,\n",
       " nan,\n",
       " 0.006618894861643148,\n",
       " nan,\n",
       " 0.0073543276240479434,\n",
       " nan,\n",
       " 0.0073543276240479434,\n",
       " 0.015444088010500678,\n",
       " nan,\n",
       " 0.0022062982872143827,\n",
       " 0.018385819060119855,\n",
       " nan,\n",
       " nan]"
      ]
     },
     "execution_count": 54,
     "metadata": {},
     "output_type": "execute_result"
    }
   ],
   "source": [
    "sorted(EPN_final['breaks_density-chromosomal_instability_CNV'])"
   ]
  },
  {
   "cell_type": "code",
   "execution_count": 46,
   "metadata": {},
   "outputs": [
    {
     "data": {
      "text/plain": [
       "Index(['Kids_First_Participant_ID', 'sample_id',\n",
       "       'Kids_First_Biospecimen_ID_DNA', 'Kids_First_Biospecimen_ID_RNA',\n",
       "       'disease_group', '1q_loss', '1q_gain', '9p_loss', '9q_loss', '6p_loss',\n",
       "       '6q_loss', '11q_loss', '11q_gain', 'NFKB_pathway_GSEAscore',\n",
       "       'C11orf95--RELA', 'LTBP3--RELA', 'PTEN--TAS2R1', 'C11orf95--YAP1',\n",
       "       'YAP1--MAMLD1', 'YAP1--FAM118B', 'C11orf95--MAML2',\n",
       "       'breaks_density-chromosomal_instability_CNV',\n",
       "       'breaks_density-chromosomal_instability_SV', 'GISTIC_focal_CN_CDKN2A',\n",
       "       'consensus_focal_CN_CDKN2', 'RELA_expr_zscore', 'L1CAM_expr_zscore',\n",
       "       'ARL4D_expr_zscore', 'CLDN1_expr_zscore', 'CXorf67_expr_zscore',\n",
       "       'TKTL1_expr_zscore', 'GPBP1_expr_zscore', 'IFT46_expr_zscore'],\n",
       "      dtype='object')"
      ]
     },
     "execution_count": 46,
     "metadata": {},
     "output_type": "execute_result"
    }
   ],
   "source": [
    "EPN_final.columns"
   ]
  },
  {
   "cell_type": "code",
   "execution_count": null,
   "metadata": {},
   "outputs": [],
   "source": []
  },
  {
   "cell_type": "code",
   "execution_count": null,
   "metadata": {},
   "outputs": [],
   "source": []
  },
  {
   "cell_type": "code",
   "execution_count": null,
   "metadata": {},
   "outputs": [],
   "source": []
  },
  {
   "cell_type": "code",
   "execution_count": null,
   "metadata": {},
   "outputs": [],
   "source": []
  },
  {
   "cell_type": "code",
   "execution_count": null,
   "metadata": {},
   "outputs": [],
   "source": []
  }
 ],
 "metadata": {
  "kernelspec": {
   "display_name": "Python 3",
   "language": "python",
   "name": "python3"
  },
  "language_info": {
   "codemirror_mode": {
    "name": "ipython",
    "version": 3
   },
   "file_extension": ".py",
   "mimetype": "text/x-python",
   "name": "python",
   "nbconvert_exporter": "python",
   "pygments_lexer": "ipython3",
   "version": "3.7.3"
  }
 },
 "nbformat": 4,
 "nbformat_minor": 2
}
