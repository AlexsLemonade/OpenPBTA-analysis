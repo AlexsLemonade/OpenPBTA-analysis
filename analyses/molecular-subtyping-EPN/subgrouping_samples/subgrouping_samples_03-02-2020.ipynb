{
 "cells": [
  {
   "cell_type": "code",
   "execution_count": 6,
   "metadata": {},
   "outputs": [],
   "source": [
    "import pandas as pd\n",
    "import numpy as np \n",
    "import  pyreadr\n",
    "import sys\n",
    "from matplotlib import pyplot as plt\n",
    "\n",
    "EPN_final = pd.read_csv(\"/Users/kogantit/Documents/OpenPBTA/OpenPBTA-analysis/analyses/molecular-subtyping-EPN/results/EPN_all_data.tsv\", sep=\"\\t\")\n",
    "\n",
    "EPN_final[\"subgroup\"] = \"None\""
   ]
  },
  {
   "cell_type": "code",
   "execution_count": 7,
   "metadata": {},
   "outputs": [
    {
     "data": {
      "text/plain": [
       "0    None\n",
       "1    None\n",
       "2    None\n",
       "3    None\n",
       "4    None\n",
       "Name: subgroup, dtype: object"
      ]
     },
     "execution_count": 7,
     "metadata": {},
     "output_type": "execute_result"
    }
   ],
   "source": [
    "EPN_final[\"subgroup\"].head()\n"
   ]
  },
  {
   "cell_type": "code",
   "execution_count": 8,
   "metadata": {},
   "outputs": [],
   "source": [
    "def add_sample_to_subgroup(row,columnname, group, checkvalue):\n",
    "    if (row[columnname])==1 and row[\"subgroup\"]==\"None\":\n",
    "        return(group)\n",
    "    elif (row[columnname])==1 and row[\"subgroup\"]!=\"None\":\n",
    "        return(str(row[\"subgroup\"])+\",\"+group)\n",
    "    else:\n",
    "        return row[\"subgroup\"]\n",
    "    \n",
    "#### Looking for  ST_EPN_RELA sub-group samples\n",
    "# PTEN--TAS2R1 fusion column is all zeros \n",
    "EPN_final[\"subgroup\"] = EPN_final.apply(lambda x: add_sample_to_subgroup(x, \"C11orf95--RELA\", \"ST_EPN_RELA\", 1), axis=1)\n",
    "EPN_final[\"subgroup\"] = EPN_final.apply(lambda x: add_sample_to_subgroup(x, \"LTBP3--RELA\", \"ST_EPN_RELA\"), axis=1)\n",
    "EPN_final[\"subgroup\"] = EPN_final.apply(lambda x: add_sample_to_subgroup(x, '9p_loss', \"ST_EPN_RELA\"), axis=1)\n",
    "EPN_final[\"subgroup\"] = EPN_final.apply(lambda x: add_sample_to_subgroup(x, '9q_loss', \"ST_EPN_RELA\"), axis=1)\n",
    "\n",
    "\n",
    "\n"
   ]
  },
  {
   "cell_type": "code",
   "execution_count": 5,
   "metadata": {},
   "outputs": [
    {
     "data": {
      "text/plain": [
       "0                             ST_EPN_RELA\n",
       "1                                    None\n",
       "2                                    None\n",
       "3                             ST_EPN_RELA\n",
       "4                             ST_EPN_RELA\n",
       "5                                    None\n",
       "6                                    None\n",
       "7                                    None\n",
       "8                                    None\n",
       "9                                    None\n",
       "10                                   None\n",
       "11                            ST_EPN_RELA\n",
       "12                                   None\n",
       "13                                   None\n",
       "14                                   None\n",
       "15                                   None\n",
       "16                                   None\n",
       "17                            ST_EPN_RELA\n",
       "18                                   None\n",
       "19                                   None\n",
       "20                                   None\n",
       "21                            ST_EPN_RELA\n",
       "22                                   None\n",
       "23                                   None\n",
       "24                                   None\n",
       "25                                   None\n",
       "26                                   None\n",
       "27                            ST_EPN_RELA\n",
       "28                                   None\n",
       "29                            ST_EPN_RELA\n",
       "                     ...                 \n",
       "61                                   None\n",
       "62                                   None\n",
       "63                            ST_EPN_RELA\n",
       "64    ST_EPN_RELA,ST_EPN_RELA,ST_EPN_RELA\n",
       "65                                   None\n",
       "66                                   None\n",
       "67                                   None\n",
       "68                                   None\n",
       "69                                   None\n",
       "70                                   None\n",
       "71                            ST_EPN_RELA\n",
       "72                                   None\n",
       "73                                   None\n",
       "74                                   None\n",
       "75                                   None\n",
       "76                                   None\n",
       "77                                   None\n",
       "78                                   None\n",
       "79    ST_EPN_RELA,ST_EPN_RELA,ST_EPN_RELA\n",
       "80                                   None\n",
       "81    ST_EPN_RELA,ST_EPN_RELA,ST_EPN_RELA\n",
       "82                                   None\n",
       "83                                   None\n",
       "84                                   None\n",
       "85                                   None\n",
       "86                                   None\n",
       "87                            ST_EPN_RELA\n",
       "88                                   None\n",
       "89                                   None\n",
       "90    ST_EPN_RELA,ST_EPN_RELA,ST_EPN_RELA\n",
       "Name: subgroup, Length: 91, dtype: object"
      ]
     },
     "execution_count": 5,
     "metadata": {},
     "output_type": "execute_result"
    }
   ],
   "source": [
    "EPN_final[\"subgroup\"]"
   ]
  },
  {
   "cell_type": "code",
   "execution_count": null,
   "metadata": {},
   "outputs": [],
   "source": []
  }
 ],
 "metadata": {
  "kernelspec": {
   "display_name": "Python 3",
   "language": "python",
   "name": "python3"
  },
  "language_info": {
   "codemirror_mode": {
    "name": "ipython",
    "version": 3
   },
   "file_extension": ".py",
   "mimetype": "text/x-python",
   "name": "python",
   "nbconvert_exporter": "python",
   "pygments_lexer": "ipython3",
   "version": "3.7.3"
  }
 },
 "nbformat": 4,
 "nbformat_minor": 2
}
