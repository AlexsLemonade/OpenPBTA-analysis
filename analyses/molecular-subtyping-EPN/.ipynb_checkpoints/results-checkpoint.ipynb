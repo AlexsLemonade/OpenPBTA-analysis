{
 "cells": [
  {
   "cell_type": "code",
   "execution_count": 23,
   "metadata": {
    "scrolled": true
   },
   "outputs": [
    {
     "ename": "KeyError",
     "evalue": "'C11orf95--RELA_fusion'",
     "output_type": "error",
     "traceback": [
      "\u001b[0;31m---------------------------------------------------------------------------\u001b[0m",
      "\u001b[0;31mKeyError\u001b[0m                                  Traceback (most recent call last)",
      "\u001b[0;32m/usr/local/lib/python3.7/site-packages/pandas/core/indexes/base.py\u001b[0m in \u001b[0;36mget_loc\u001b[0;34m(self, key, method, tolerance)\u001b[0m\n\u001b[1;32m   2656\u001b[0m             \u001b[0;32mtry\u001b[0m\u001b[0;34m:\u001b[0m\u001b[0;34m\u001b[0m\u001b[0;34m\u001b[0m\u001b[0m\n\u001b[0;32m-> 2657\u001b[0;31m                 \u001b[0;32mreturn\u001b[0m \u001b[0mself\u001b[0m\u001b[0;34m.\u001b[0m\u001b[0m_engine\u001b[0m\u001b[0;34m.\u001b[0m\u001b[0mget_loc\u001b[0m\u001b[0;34m(\u001b[0m\u001b[0mkey\u001b[0m\u001b[0;34m)\u001b[0m\u001b[0;34m\u001b[0m\u001b[0;34m\u001b[0m\u001b[0m\n\u001b[0m\u001b[1;32m   2658\u001b[0m             \u001b[0;32mexcept\u001b[0m \u001b[0mKeyError\u001b[0m\u001b[0;34m:\u001b[0m\u001b[0;34m\u001b[0m\u001b[0;34m\u001b[0m\u001b[0m\n",
      "\u001b[0;32mpandas/_libs/index.pyx\u001b[0m in \u001b[0;36mpandas._libs.index.IndexEngine.get_loc\u001b[0;34m()\u001b[0m\n",
      "\u001b[0;32mpandas/_libs/index.pyx\u001b[0m in \u001b[0;36mpandas._libs.index.IndexEngine.get_loc\u001b[0;34m()\u001b[0m\n",
      "\u001b[0;32mpandas/_libs/hashtable_class_helper.pxi\u001b[0m in \u001b[0;36mpandas._libs.hashtable.PyObjectHashTable.get_item\u001b[0;34m()\u001b[0m\n",
      "\u001b[0;32mpandas/_libs/hashtable_class_helper.pxi\u001b[0m in \u001b[0;36mpandas._libs.hashtable.PyObjectHashTable.get_item\u001b[0;34m()\u001b[0m\n",
      "\u001b[0;31mKeyError\u001b[0m: 'C11orf95--RELA_fusion'",
      "\nDuring handling of the above exception, another exception occurred:\n",
      "\u001b[0;31mKeyError\u001b[0m                                  Traceback (most recent call last)",
      "\u001b[0;32m<ipython-input-23-8a3e20dbebf9>\u001b[0m in \u001b[0;36m<module>\u001b[0;34m\u001b[0m\n\u001b[1;32m     23\u001b[0m \u001b[0;31m# PTEN--TAS2R1 fusion column is all zeros\u001b[0m\u001b[0;34m\u001b[0m\u001b[0;34m\u001b[0m\u001b[0;34m\u001b[0m\u001b[0m\n\u001b[1;32m     24\u001b[0m EPN_final, ST_EPN_RELA =  addsampletosubtype_removefromdf(EPN_final, ST_EPN_RELA, \n\u001b[0;32m---> 25\u001b[0;31m                             EPN_final.loc[EPN_final['C11orf95--RELA_fusion'] > 0][\"sample_id\"].tolist())\n\u001b[0m\u001b[1;32m     26\u001b[0m \u001b[0;31m# This whole column is zeros\u001b[0m\u001b[0;34m\u001b[0m\u001b[0;34m\u001b[0m\u001b[0;34m\u001b[0m\u001b[0m\n\u001b[1;32m     27\u001b[0m EPN_final, ST_EPN_RELA =  addsampletosubtype_removefromdf(EPN_final, ST_EPN_RELA, \n",
      "\u001b[0;32m/usr/local/lib/python3.7/site-packages/pandas/core/frame.py\u001b[0m in \u001b[0;36m__getitem__\u001b[0;34m(self, key)\u001b[0m\n\u001b[1;32m   2925\u001b[0m             \u001b[0;32mif\u001b[0m \u001b[0mself\u001b[0m\u001b[0;34m.\u001b[0m\u001b[0mcolumns\u001b[0m\u001b[0;34m.\u001b[0m\u001b[0mnlevels\u001b[0m \u001b[0;34m>\u001b[0m \u001b[0;36m1\u001b[0m\u001b[0;34m:\u001b[0m\u001b[0;34m\u001b[0m\u001b[0;34m\u001b[0m\u001b[0m\n\u001b[1;32m   2926\u001b[0m                 \u001b[0;32mreturn\u001b[0m \u001b[0mself\u001b[0m\u001b[0;34m.\u001b[0m\u001b[0m_getitem_multilevel\u001b[0m\u001b[0;34m(\u001b[0m\u001b[0mkey\u001b[0m\u001b[0;34m)\u001b[0m\u001b[0;34m\u001b[0m\u001b[0;34m\u001b[0m\u001b[0m\n\u001b[0;32m-> 2927\u001b[0;31m             \u001b[0mindexer\u001b[0m \u001b[0;34m=\u001b[0m \u001b[0mself\u001b[0m\u001b[0;34m.\u001b[0m\u001b[0mcolumns\u001b[0m\u001b[0;34m.\u001b[0m\u001b[0mget_loc\u001b[0m\u001b[0;34m(\u001b[0m\u001b[0mkey\u001b[0m\u001b[0;34m)\u001b[0m\u001b[0;34m\u001b[0m\u001b[0;34m\u001b[0m\u001b[0m\n\u001b[0m\u001b[1;32m   2928\u001b[0m             \u001b[0;32mif\u001b[0m \u001b[0mis_integer\u001b[0m\u001b[0;34m(\u001b[0m\u001b[0mindexer\u001b[0m\u001b[0;34m)\u001b[0m\u001b[0;34m:\u001b[0m\u001b[0;34m\u001b[0m\u001b[0;34m\u001b[0m\u001b[0m\n\u001b[1;32m   2929\u001b[0m                 \u001b[0mindexer\u001b[0m \u001b[0;34m=\u001b[0m \u001b[0;34m[\u001b[0m\u001b[0mindexer\u001b[0m\u001b[0;34m]\u001b[0m\u001b[0;34m\u001b[0m\u001b[0;34m\u001b[0m\u001b[0m\n",
      "\u001b[0;32m/usr/local/lib/python3.7/site-packages/pandas/core/indexes/base.py\u001b[0m in \u001b[0;36mget_loc\u001b[0;34m(self, key, method, tolerance)\u001b[0m\n\u001b[1;32m   2657\u001b[0m                 \u001b[0;32mreturn\u001b[0m \u001b[0mself\u001b[0m\u001b[0;34m.\u001b[0m\u001b[0m_engine\u001b[0m\u001b[0;34m.\u001b[0m\u001b[0mget_loc\u001b[0m\u001b[0;34m(\u001b[0m\u001b[0mkey\u001b[0m\u001b[0;34m)\u001b[0m\u001b[0;34m\u001b[0m\u001b[0;34m\u001b[0m\u001b[0m\n\u001b[1;32m   2658\u001b[0m             \u001b[0;32mexcept\u001b[0m \u001b[0mKeyError\u001b[0m\u001b[0;34m:\u001b[0m\u001b[0;34m\u001b[0m\u001b[0;34m\u001b[0m\u001b[0m\n\u001b[0;32m-> 2659\u001b[0;31m                 \u001b[0;32mreturn\u001b[0m \u001b[0mself\u001b[0m\u001b[0;34m.\u001b[0m\u001b[0m_engine\u001b[0m\u001b[0;34m.\u001b[0m\u001b[0mget_loc\u001b[0m\u001b[0;34m(\u001b[0m\u001b[0mself\u001b[0m\u001b[0;34m.\u001b[0m\u001b[0m_maybe_cast_indexer\u001b[0m\u001b[0;34m(\u001b[0m\u001b[0mkey\u001b[0m\u001b[0;34m)\u001b[0m\u001b[0;34m)\u001b[0m\u001b[0;34m\u001b[0m\u001b[0;34m\u001b[0m\u001b[0m\n\u001b[0m\u001b[1;32m   2660\u001b[0m         \u001b[0mindexer\u001b[0m \u001b[0;34m=\u001b[0m \u001b[0mself\u001b[0m\u001b[0;34m.\u001b[0m\u001b[0mget_indexer\u001b[0m\u001b[0;34m(\u001b[0m\u001b[0;34m[\u001b[0m\u001b[0mkey\u001b[0m\u001b[0;34m]\u001b[0m\u001b[0;34m,\u001b[0m \u001b[0mmethod\u001b[0m\u001b[0;34m=\u001b[0m\u001b[0mmethod\u001b[0m\u001b[0;34m,\u001b[0m \u001b[0mtolerance\u001b[0m\u001b[0;34m=\u001b[0m\u001b[0mtolerance\u001b[0m\u001b[0;34m)\u001b[0m\u001b[0;34m\u001b[0m\u001b[0;34m\u001b[0m\u001b[0m\n\u001b[1;32m   2661\u001b[0m         \u001b[0;32mif\u001b[0m \u001b[0mindexer\u001b[0m\u001b[0;34m.\u001b[0m\u001b[0mndim\u001b[0m \u001b[0;34m>\u001b[0m \u001b[0;36m1\u001b[0m \u001b[0;32mor\u001b[0m \u001b[0mindexer\u001b[0m\u001b[0;34m.\u001b[0m\u001b[0msize\u001b[0m \u001b[0;34m>\u001b[0m \u001b[0;36m1\u001b[0m\u001b[0;34m:\u001b[0m\u001b[0;34m\u001b[0m\u001b[0;34m\u001b[0m\u001b[0m\n",
      "\u001b[0;32mpandas/_libs/index.pyx\u001b[0m in \u001b[0;36mpandas._libs.index.IndexEngine.get_loc\u001b[0;34m()\u001b[0m\n",
      "\u001b[0;32mpandas/_libs/index.pyx\u001b[0m in \u001b[0;36mpandas._libs.index.IndexEngine.get_loc\u001b[0;34m()\u001b[0m\n",
      "\u001b[0;32mpandas/_libs/hashtable_class_helper.pxi\u001b[0m in \u001b[0;36mpandas._libs.hashtable.PyObjectHashTable.get_item\u001b[0;34m()\u001b[0m\n",
      "\u001b[0;32mpandas/_libs/hashtable_class_helper.pxi\u001b[0m in \u001b[0;36mpandas._libs.hashtable.PyObjectHashTable.get_item\u001b[0;34m()\u001b[0m\n",
      "\u001b[0;31mKeyError\u001b[0m: 'C11orf95--RELA_fusion'"
     ]
    }
   ],
   "source": [
    "import pandas as pd\n",
    "import numpy as np \n",
    "import  pyreadr\n",
    "import sys\n",
    "from matplotlib import pyplot as plt\n",
    "\n",
    "EPN_final = pd.read_csv(\"/Users/kogantit/Documents/OpenPBTA/OpenPBTA-analysis/analyses/molecular-subtyping-EPN/results/EPN_all_data.tsv\", sep=\"\\t\")\n",
    "\n",
    "ST_EPN_RELA = []\n",
    "ST_EPN_YAP1 = []\n",
    "PT_EPN_A = []\n",
    "PT_EPN_B = []\n",
    "\n",
    "\n",
    "\n",
    "def addsampletosubtype_removefromdf(EPN_df, subtypelistname, sample_list):\n",
    "    subtypelistname.extend(sample_list)\n",
    "    EPN_df = EPN_df[~EPN_df['sample_id'].isin(sample_list)]\n",
    "    return(EPN_df, subtypelistname)\n",
    "\n",
    "\n",
    "\n",
    "# PTEN--TAS2R1 fusion column is all zeros \n",
    "EPN_final, ST_EPN_RELA =  addsampletosubtype_removefromdf(EPN_final, ST_EPN_RELA, \n",
    "                            EPN_final.loc[EPN_final['C11orf95--RELA_fusion'] > 0][\"sample_id\"].tolist())\n",
    "# This whole column is zeros \n",
    "EPN_final, ST_EPN_RELA =  addsampletosubtype_removefromdf(EPN_final, ST_EPN_RELA, \n",
    "                            EPN_final.loc[EPN_final['LTBP3--RELA_fusion'] > 0][\"sample_id\"].tolist())\n",
    "# This column is empty EPN_final[\"PTEN--TAS2R1_fusion\"]\n",
    "\n",
    "EPN_final, ST_EPN_RELA =  addsampletosubtype_removefromdf(EPN_final, ST_EPN_RELA, \n",
    "                            EPN_final.loc[EPN_final['9p_loss'] > 0][\"sample_id\"].tolist())\n",
    "#This whole column is zeros \n",
    "EPN_final, ST_EPN_RELA =  addsampletosubtype_removefromdf(EPN_final, ST_EPN_RELA, \n",
    "                            EPN_final.loc[EPN_final['9q_loss'] > 0][\"sample_id\"].tolist())\n",
    "# Cannot find clear outliers from the histogram plots for RELA Z-scores \n",
    "#EPN_final, ST_EPN_RELA =  addsampletosubtype_removefromdf(EPN_final, ST_EPN_RELA, \n",
    "#                            list(EPN_final.loc[EPN_final['RELA_expr_zscore'] > 3][\"sample_id\"]))\n",
    "# One Z-score above 3 \n",
    "EPN_final, ST_EPN_RELA =  addsampletosubtype_removefromdf(EPN_final, ST_EPN_RELA, \n",
    "                            EPN_final.loc[EPN_final['L1CAM_expr_Zscore'] > 3][\"sample_id\"].tolist())\n",
    "\n",
    "\n",
    "\n",
    "# All zeros column\n",
    "EPN_final, ST_EPN_YAP1 = addsampletosubtype_removefromdf(EPN_final, ST_EPN_YAP1, \n",
    "                            EPN_final.loc[EPN_final['C11orf95--YAP1_fusion'] > 0][\"sample_id\"].tolist())\n",
    "EPN_final, ST_EPN_YAP1 = addsampletosubtype_removefromdf(EPN_final, ST_EPN_YAP1, \n",
    "                            EPN_final.loc[EPN_final['YAP1--MAMLD1_fusion'] > 0][\"sample_id\"].tolist())\n",
    "EPN_final, ST_EPN_YAP1 = addsampletosubtype_removefromdf(EPN_final, ST_EPN_YAP1, \n",
    "                            EPN_final.loc[EPN_final['C11orf95--MAML2_fusion'] > 0][\"sample_id\"].tolist())\n",
    "# All zeros\n",
    "EPN_final, ST_EPN_YAP1 = addsampletosubtype_removefromdf(EPN_final, ST_EPN_YAP1, \n",
    "                            EPN_final.loc[EPN_final['YAP1--FAM118B_fusion'] > 0][\"sample_id\"].tolist())\n",
    "# All zeros\n",
    "EPN_final, ST_EPN_YAP1 = addsampletosubtype_removefromdf(EPN_final, ST_EPN_YAP1, \n",
    "                            EPN_final.loc[EPN_final['11q_loss'] > 0][\"sample_id\"].tolist())\n",
    "EPN_final, ST_EPN_YAP1 = addsampletosubtype_removefromdf(EPN_final, ST_EPN_YAP1, \n",
    "                            EPN_final.loc[EPN_final['11q_gain'] > 0][\"sample_id\"].tolist())\n",
    "# Two sample higher than 1.7, look like outliers based on histogram\n",
    "EPN_final, ST_EPN_YAP1 = addsampletosubtype_removefromdf(EPN_final, ST_EPN_YAP1, \n",
    "                            EPN_final.loc[EPN_final['ARL4D_expr_Zscore'] > 1.5][\"sample_id\"].tolist())\n",
    "# One sample higher than 1.0, another sample at 0.28 also look like an outlier but a cutoff value of 0.25 maybe too small?? \n",
    "EPN_final, ST_EPN_YAP1 = addsampletosubtype_removefromdf(EPN_final, ST_EPN_YAP1, \n",
    "                            EPN_final.loc[EPN_final['CLDN1_expr_zscore'] > 1][\"sample_id\"].tolist())\n",
    "\n",
    "\n",
    "\n",
    "EPN_final, PT_EPN_A = addsampletosubtype_removefromdf(EPN_final, PT_EPN_A, \n",
    "                           EPN_final.loc[EPN_final['1q_loss'] > 0][\"sample_id\"].tolist())\n",
    "# Anythong above 2 Z-score looks like an outlier\n",
    "EPN_final, PT_EPN_A = addsampletosubtype_removefromdf(EPN_final, PT_EPN_A, \n",
    "                            EPN_final.loc[EPN_final['TKTL1_expr_zscore'] > 2][\"sample_id\"].tolist())\n",
    "# Any score above 2.0? Two samples at 2.03 and 2.07. Not includng this one in the PF_EPN_A\n",
    "EPN_final, PT_EPN_A = addsampletosubtype_removefromdf(EPN_final, PT_EPN_A, \n",
    "                            EPN_final.loc[EPN_final['CXorf67_expr_zscore'] > 2.10][\"sample_id\"].tolist())\n",
    "\n",
    "\n",
    "\n",
    "EPN_final, PT_EPN_B = addsampletosubtype_removefromdf(EPN_final, PT_EPN_B, \n",
    "                            EPN_final.loc[EPN_final['6q_loss'] > 0][\"sample_id\"].tolist())\n",
    "#All zeros column \n",
    "EPN_final, PT_EPN_B = addsampletosubtype_removefromdf(EPN_final, PT_EPN_B, \n",
    "                            EPN_final.loc[EPN_final['6p_loss'] > 0][\"sample_id\"].tolist())\n",
    "# Two sample with Z-scores above 3\n",
    "EPN_final, PT_EPN_B = addsampletosubtype_removefromdf(EPN_final, PT_EPN_B, \n",
    "                            EPN_final.loc[EPN_final['IFT46_expr_zscore'] > 3][\"sample_id\"].tolist())\n",
    "# Not many outliers\n",
    "#EPN_final, PT_EPN_B = addsampletosubtype_removefromdf(EPN_final, PT_EPN_B, \n",
    "#                            list(EPN_final.loc[EPN_final['GPBP1_expr_zscore'] > 2][\"sample_id\"]))\n",
    "\n",
    "\n",
    "\n",
    "\n",
    "\n",
    "print(EPN_final.shape, len(ST_EPN_RELA), len(ST_EPN_YAP1), len(PT_EPN_A), len(PT_EPN_B))\n",
    "\n",
    "\n",
    "#plt.hist(list(EPN_final[\"GPBP1_expr_zscore\"]))"
   ]
  },
  {
   "cell_type": "code",
   "execution_count": 20,
   "metadata": {},
   "outputs": [
    {
     "data": {
      "text/plain": [
       "Index(['Kids_First_Participant_ID', 'sample_id',\n",
       "       'Kids_First_Biospecimen_ID_DNA', 'Kids_First_Biospecimen_ID_RNA',\n",
       "       'disease_group', '1q_loss', '1q_gain', '9p_loss', '9q_loss', '6p_loss',\n",
       "       '6q_loss', '11q_loss', '11q_gain', 'NFKB_pathway_GSEAscore',\n",
       "       'C11orf95--RELA', 'LTBP3--RELA', 'PTEN--TAS2R1', 'C11orf95--YAP1',\n",
       "       'YAP1--MAMLD1', 'YAP1--FAM118B', 'C11orf95--MAML2',\n",
       "       'breaks_density-chromosomal_instability_CNV',\n",
       "       'breaks_density-chromosomal_instability_SV', 'GISTIC_focal_CN_CDKN2A',\n",
       "       'consensus_focal_CN_CDKN2', 'RELA_expr_zscore', 'L1CAM_expr_zscore',\n",
       "       'ARL4D_expr_zscore', 'CLDN1_expr_zscore', 'CXorf67_expr_zscore',\n",
       "       'TKTL1_expr_zscore', 'GPBP1_expr_zscore', 'IFT46_expr_zscore'],\n",
       "      dtype='object')"
      ]
     },
     "execution_count": 20,
     "metadata": {},
     "output_type": "execute_result"
    }
   ],
   "source": [
    "EPN_final = pd.read_csv(\"/Users/kogantit/Documents/OpenPBTA/OpenPBTA-analysis/analyses/molecular-subtyping-EPN/results/EPN_all_data.tsv\", sep=\"\\t\")\n",
    "\n",
    "EPN_final.columns\n",
    "\n"
   ]
  },
  {
   "cell_type": "code",
   "execution_count": 147,
   "metadata": {},
   "outputs": [
    {
     "data": {
      "text/plain": [
       "[0.4306595397270605,\n",
       " 0.4714588645433082,\n",
       " 0.4831158144908077,\n",
       " 0.4954203727687237,\n",
       " 0.5478766475324709,\n",
       " 0.5524099058453873,\n",
       " 0.553057514175804,\n",
       " 0.5708667432622614,\n",
       " 0.5821998890445524,\n",
       " 0.5974186848093432,\n",
       " 0.5990377056353848,\n",
       " 0.6236468221912169,\n",
       " 0.6359513804691329,\n",
       " 0.6398370304516326,\n",
       " 0.6508463720687154,\n",
       " 0.6563510428772568,\n",
       " 0.6592652803641317,\n",
       " 0.6644461470074647,\n",
       " 0.6738364677985059,\n",
       " 0.6761030969549641,\n",
       " 0.7042740593280876,\n",
       " 0.7123691634582955,\n",
       " 0.7175500301016285,\n",
       " 0.7298545883795445,\n",
       " 0.7298545883795445,\n",
       " 0.7628826132307928,\n",
       " 0.7725967381870423,\n",
       " 0.7732443465174589,\n",
       " 0.7959106380820411,\n",
       " 0.8574334294716212,\n",
       " nan,\n",
       " 0.8020629172209991,\n",
       " 0.81533888799454,\n",
       " nan,\n",
       " nan,\n",
       " nan,\n",
       " 0.7343878466924609,\n",
       " 0.7674158715437093,\n",
       " nan,\n",
       " 0.9254323041653676,\n",
       " nan,\n",
       " nan]"
      ]
     },
     "execution_count": 147,
     "metadata": {},
     "output_type": "execute_result"
    }
   ],
   "source": [
    "sorted(EPN_final[\"breaks_density-chromosomal_instability\"].tolist())"
   ]
  },
  {
   "cell_type": "code",
   "execution_count": 290,
   "metadata": {},
   "outputs": [
    {
     "data": {
      "text/plain": [
       "Index(['Kids_First_Participant_ID', 'sample_id',\n",
       "       'Kids_First_Biospecimen_ID_DNA', 'Kids_First_Biospecimen_ID_RNA',\n",
       "       'disease_group', '1q_loss', '1q_gain', '9p_loss', '9q_loss', '6p_loss',\n",
       "       '6q_loss', '11q_loss', '11q_gain', 'NFKB_pathway_GSEAscore',\n",
       "       'C11orf95--RELA', 'LTBP3--RELA', 'PTEN--TAS2R1', 'C11orf95--YAP1',\n",
       "       'YAP1--MAMLD1', 'YAP1--FAM118B', 'C11orf95--MAML2',\n",
       "       'breaks_density-chromosomal_instability_CNV',\n",
       "       'breaks_density-chromosomal_instability_SV', 'GISTIC_focal_CN_CDKN2A',\n",
       "       'consensus_focal_CN_CDKN2', 'RELA_expr_zscore', 'L1CAM_expr_zscore',\n",
       "       'ARL4D_expr_zscore', 'CLDN1_expr_zscore', 'CXorf67_expr_zscore',\n",
       "       'TKTL1_expr_zscore', 'GPBP1_expr_zscore', 'IFT46_expr_zscore'],\n",
       "      dtype='object')"
      ]
     },
     "execution_count": 290,
     "metadata": {},
     "output_type": "execute_result"
    }
   ],
   "source": [
    "EPN_final.columns"
   ]
  },
  {
   "cell_type": "code",
   "execution_count": 180,
   "metadata": {
    "scrolled": false
   },
   "outputs": [
    {
     "name": "stdout",
     "output_type": "stream",
     "text": [
      "Collecting matplotlib\n",
      "\u001b[?25l  Downloading https://files.pythonhosted.org/packages/a0/76/68bc3374ffa2d8d3dfd440fe94158fa8aa2628670fa38bdaf186c9af0d94/matplotlib-3.1.2-cp37-cp37m-macosx_10_9_x86_64.whl (13.2MB)\n",
      "\u001b[K    100% |████████████████████████████████| 13.2MB 3.1MB/s eta 0:00:01\n",
      "\u001b[?25hRequirement already satisfied: python-dateutil>=2.1 in /usr/local/lib/python3.7/site-packages (from matplotlib) (2.8.0)\n",
      "Requirement already satisfied: numpy>=1.11 in /usr/local/lib/python3.7/site-packages (from matplotlib) (1.16.4)\n",
      "Collecting cycler>=0.10 (from matplotlib)\n",
      "  Downloading https://files.pythonhosted.org/packages/f7/d2/e07d3ebb2bd7af696440ce7e754c59dd546ffe1bbe732c8ab68b9c834e61/cycler-0.10.0-py2.py3-none-any.whl\n",
      "Requirement already satisfied: pyparsing!=2.0.4,!=2.1.2,!=2.1.6,>=2.0.1 in /usr/local/lib/python3.7/site-packages (from matplotlib) (2.4.0)\n",
      "Collecting kiwisolver>=1.0.1 (from matplotlib)\n",
      "\u001b[?25l  Downloading https://files.pythonhosted.org/packages/df/93/8bc9b52a8846be2b9572aa0a7c881930939b06e4abe1162da6a0430b794f/kiwisolver-1.1.0-cp37-cp37m-macosx_10_6_intel.macosx_10_9_intel.macosx_10_9_x86_64.macosx_10_10_intel.macosx_10_10_x86_64.whl (113kB)\n",
      "\u001b[K    100% |████████████████████████████████| 122kB 18.0MB/s ta 0:00:01\n",
      "\u001b[?25hRequirement already satisfied: six>=1.5 in /usr/local/lib/python3.7/site-packages (from python-dateutil>=2.1->matplotlib) (1.12.0)\n",
      "Requirement already satisfied: setuptools in /usr/local/lib/python3.7/site-packages (from kiwisolver>=1.0.1->matplotlib) (40.8.0)\n",
      "Installing collected packages: cycler, kiwisolver, matplotlib\n",
      "Successfully installed cycler-0.10.0 kiwisolver-1.1.0 matplotlib-3.1.2\n"
     ]
    }
   ],
   "source": [
    "!pip3 install matplotlib\n"
   ]
  },
  {
   "cell_type": "code",
   "execution_count": 201,
   "metadata": {},
   "outputs": [
    {
     "data": {
      "text/plain": [
       "(array([20., 21.,  4.,  2.,  5.,  0.,  1.,  1.,  0.,  1.]),\n",
       " array([-1.0270693 , -0.43840479,  0.15025973,  0.73892425,  1.32758877,\n",
       "         1.91625328,  2.5049178 ,  3.09358232,  3.68224684,  4.27091136,\n",
       "         4.85957587]),\n",
       " <a list of 10 Patch objects>)"
      ]
     },
     "execution_count": 201,
     "metadata": {},
     "output_type": "execute_result"
    },
    {
     "data": {
      "image/png": "[encoded data removed]",
      "text/plain": [
       "<Figure size 432x288 with 1 Axes>"
      ]
     },
     "metadata": {
      "needs_background": "light"
     },
     "output_type": "display_data"
    }
   ],
   "source": [
    "plt.hist(list(EPN_final[\"IFT46_expr_zscore\"]))"
   ]
  },
  {
   "cell_type": "code",
   "execution_count": 287,
   "metadata": {},
   "outputs": [],
   "source": [
    "EPN_final = pd.read_csv(\"/Users/kogantit/Documents/OpenPBTA/OpenPBTA-analysis/analyses/molecular-subtyping-EPN/results/EPN_all_data.tsv\", sep=\"\\t\")\n"
   ]
  },
  {
   "cell_type": "code",
   "execution_count": 292,
   "metadata": {},
   "outputs": [
    {
     "name": "stdout",
     "output_type": "stream",
     "text": [
      "  Kids_First_Participant_ID  sample_id Kids_First_Biospecimen_ID_DNA  \\\n",
      "1               PT_164RNWTT  7316-1078                   BS_5D24XV4T   \n",
      "2               PT_V3Q78E6F   7316-455                   BS_7RQCH5Y7   \n",
      "5               PT_BNARR0N6  7316-1954                   BS_99PPRCW4   \n",
      "7               PT_V0X73HEQ  7316-2182                   BS_GMQZNQH8   \n",
      "9               PT_3VCS1PPF   7316-198                   BS_B4P1NP87   \n",
      "\n",
      "  Kids_First_Biospecimen_ID_RNA   disease_group  1q_loss  1q_gain  9p_loss  \\\n",
      "1                   BS_0BXY0F9N  infratentorial        0        0        0   \n",
      "2                   BS_0QYS36NR            None        0        0        0   \n",
      "5                   BS_196BBNEJ  infratentorial        0        0        0   \n",
      "7                   BS_34201DKZ  infratentorial        0        0        0   \n",
      "9                   BS_3X9WMZGJ  infratentorial        0        0        0   \n",
      "\n",
      "   9q_loss  6p_loss  ...  GISTIC_focal_CN_CDKN2A  consensus_focal_CN_CDKN2  \\\n",
      "1        0        0  ...                     0.0                       NaN   \n",
      "2        0        0  ...                     0.0                       NaN   \n",
      "5        0        0  ...                     0.0                       NaN   \n",
      "7        0        0  ...                     0.0                       NaN   \n",
      "9        0        0  ...                     0.0                       NaN   \n",
      "\n",
      "   RELA_expr_zscore  L1CAM_expr_zscore  ARL4D_expr_zscore  CLDN1_expr_zscore  \\\n",
      "1         -0.661110          -0.528678           0.957077          -0.254374   \n",
      "2         -0.431582          -0.540579           0.152461          -0.260496   \n",
      "5         -0.331720          -0.535908          -0.194178          -0.234475   \n",
      "7         -0.611966          -0.536519          -0.554590          -0.265854   \n",
      "9         -0.622712          -0.539133          -0.587877          -0.163298   \n",
      "\n",
      "   CXorf67_expr_zscore  TKTL1_expr_zscore  GPBP1_expr_zscore  \\\n",
      "1             0.625133          -0.183613          -1.125898   \n",
      "2             0.265562           0.461415          -1.589245   \n",
      "5             0.845515          -0.088464          -1.206230   \n",
      "7             0.195968          -0.237317          -0.508341   \n",
      "9            -0.711658          -0.375079          -0.453112   \n",
      "\n",
      "   IFT46_expr_zscore  \n",
      "1           0.007798  \n",
      "2          -0.845350  \n",
      "5          -0.460462  \n",
      "7           0.344120  \n",
      "9           1.907147  \n",
      "\n",
      "[5 rows x 33 columns]\n"
     ]
    }
   ],
   "source": [
    "print(EPN_final.head())"
   ]
  },
  {
   "cell_type": "code",
   "execution_count": null,
   "metadata": {},
   "outputs": [],
   "source": [
    "import pandas as pd\n",
    "import numpy as np \n",
    "import  pyreadr\n",
    "import sys\n",
    "\n",
    "\n",
    "\n"
   ]
  },
  {
   "cell_type": "code",
   "execution_count": null,
   "metadata": {},
   "outputs": [],
   "source": []
  },
  {
   "cell_type": "code",
   "execution_count": null,
   "metadata": {},
   "outputs": [],
   "source": []
  },
  {
   "cell_type": "code",
   "execution_count": null,
   "metadata": {},
   "outputs": [],
   "source": []
  },
  {
   "cell_type": "code",
   "execution_count": null,
   "metadata": {},
   "outputs": [],
   "source": []
  },
  {
   "cell_type": "code",
   "execution_count": null,
   "metadata": {},
   "outputs": [],
   "source": []
  }
 ],
 "metadata": {
  "kernelspec": {
   "display_name": "Python 3",
   "language": "python",
   "name": "python3"
  },
  "language_info": {
   "codemirror_mode": {
    "name": "ipython",
    "version": 3
   },
   "file_extension": ".py",
   "mimetype": "text/x-python",
   "name": "python",
   "nbconvert_exporter": "python",
   "pygments_lexer": "ipython3",
   "version": "3.7.3"
  }
 },
 "nbformat": 4,
 "nbformat_minor": 2
}
