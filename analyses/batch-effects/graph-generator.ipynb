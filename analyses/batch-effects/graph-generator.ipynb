{
 "cells": [
  {
   "cell_type": "markdown",
   "metadata": {},
   "source": [
    "# Batch Effects Graphs Description"
   ]
  },
  {
   "cell_type": "markdown",
   "metadata": {},
   "source": [
    "This Jupyter Notebook makes all of the PCA plots showing the relationship between histologies and batch. \n",
    "\n",
    "This script works best with Jupyter Notebook Code Folding and Collapsable Header Extensions Added. To run this you will need to download the R Kernal. You can do that by typing the following into the command line:\n",
    "\n",
    "```conda install -c r r-irkernel```\n",
    "\n",
    "Go to this [link](https://forums.fast.ai/t/useful-jupyter-notebook-tips-plugins-collapsible-sections/17919) to learn how to enable collapsable headers.\n",
    "\n",
    "To export this file as an HTML with collapsable headers type the following into the command line\n",
    "\n",
    "```jupyter nbconvert --template=collapsible_headings --to html_ch \"graph-generator.ipynb\"```"
   ]
  },
  {
   "cell_type": "markdown",
   "metadata": {},
   "source": [
    "# Library Import & Data Download"
   ]
  },
  {
   "cell_type": "markdown",
   "metadata": {},
   "source": [
    "#### Import the necessary libararies "
   ]
  },
  {
   "cell_type": "code",
   "execution_count": null,
   "metadata": {
    "code_folding": [],
    "scrolled": true
   },
   "outputs": [],
   "source": [
    "library(tibble)\n",
    "library(tidyr)\n",
    "library(ggplot2)\n",
    "library(readr)\n",
    "library(dplyr)\n",
    "library(BatchQC)\n",
    "library(forcats)\n",
    "library(sva)\n",
    "library(rprojroot)"
   ]
  },
  {
   "cell_type": "markdown",
   "metadata": {},
   "source": [
    "####  Configure file paths & import functions"
   ]
  },
  {
   "cell_type": "code",
   "execution_count": null,
   "metadata": {
    "code_folding": []
   },
   "outputs": [],
   "source": [
    "# Configure file paths\n",
    "root_dir = find_root(has_file(\"OpenPBTA-analysis.Rproj\"))\n",
    "analysis_dir = file.path(root_dir, \"analyses\", \"batch-effects\")\n",
    "data_dir = file.path(root_dir, \"data\")\n",
    "functions = file.path(analysis_dir, \"util\", \"functions.R\")"
   ]
  },
  {
   "cell_type": "code",
   "execution_count": null,
   "metadata": {
    "code_folding": []
   },
   "outputs": [],
   "source": [
    "# Load functions from /util/function.R\n",
    "source(functions)"
   ]
  },
  {
   "cell_type": "markdown",
   "metadata": {},
   "source": [
    "#### Download the Data"
   ]
  },
  {
   "cell_type": "code",
   "execution_count": null,
   "metadata": {
    "code_folding": []
   },
   "outputs": [],
   "source": [
    "# Download all covariate data which will be used to identify batches\n",
    "covariate_file = file.path(data_dir, \"pbta-histologies.tsv\")\n",
    "covariate = read_tsv(covariate_file, col_types = cols(molecular_subtype = \"c\"))"
   ]
  },
  {
   "cell_type": "code",
   "execution_count": null,
   "metadata": {
    "code_folding": []
   },
   "outputs": [],
   "source": [
    "# Download gene expression data\n",
    "dat_rsem_polya_file = file.path(data_dir, \"pbta-gene-expression-rsem-tpm.polya.rds\")\n",
    "dat_rsem_polya = readRDS(dat_rsem_polya_file)\n",
    "\n",
    "dat_rsem_stranded_file = file.path(data_dir, \"pbta-gene-expression-rsem-tpm.stranded.rds\")\n",
    "dat_rsem_stranded = readRDS(dat_rsem_stranded_file)\n",
    "\n",
    "dat_kallisto_stranded_file = file.path(data_dir, \"pbta-gene-expression-kallisto.stranded.rds\")\n",
    "dat_kallisto_stranded <- readRDS(dat_kallisto_stranded_file)\n",
    "dat_kallisto_stranded = dat_kallisto_stranded[,2:ncol(dat_kallisto_stranded)]\n",
    "\n",
    "dat_kallisto_polya_file = file.path(data_dir, \"pbta-gene-expression-kallisto.polya.rds\")\n",
    "dat_kallisto_polya <- readRDS(dat_kallisto_polya_file)"
   ]
  },
  {
   "cell_type": "markdown",
   "metadata": {},
   "source": [
    "##### Shorten the data files if you don't have a strong enough computer \n",
    "\n",
    "***This should not be run for a full analysis!***"
   ]
  },
  {
   "cell_type": "code",
   "execution_count": null,
   "metadata": {
    "code_folding": []
   },
   "outputs": [],
   "source": [
    "# Shorten Data Files\n",
    "dat_rsem_polya = shorten(dat_rsem_polya)\n",
    "dat_rsem_stranded = shorten(dat_rsem_stranded)\n",
    "dat_kallisto_stranded = shorten(dat_kallisto_stranded)\n",
    "dat_kallisto_polya = shorten(dat_kallisto_polya)"
   ]
  },
  {
   "cell_type": "markdown",
   "metadata": {},
   "source": [
    "#### Group the Kallisto Data"
   ]
  },
  {
   "cell_type": "code",
   "execution_count": null,
   "metadata": {
    "code_folding": []
   },
   "outputs": [],
   "source": [
    "# Summarize the kallisto data on the gene level in order to join with batch\n",
    "dat_kallisto_polya = grouper(dat_kallisto_polya)\n",
    "dat_kallisto_stranded = grouper(dat_kallisto_stranded)"
   ]
  },
  {
   "cell_type": "markdown",
   "metadata": {},
   "source": [
    "# Sequence Center Batch effects"
   ]
  },
  {
   "cell_type": "markdown",
   "metadata": {},
   "source": [
    "### Part 1: ***Rsem-tpm Files***"
   ]
  },
  {
   "cell_type": "markdown",
   "metadata": {},
   "source": [
    "#### Part 1.1: Rsem-Polya"
   ]
  },
  {
   "cell_type": "markdown",
   "metadata": {},
   "source": [
    "##### Prepare Data"
   ]
  },
  {
   "cell_type": "code",
   "execution_count": null,
   "metadata": {},
   "outputs": [],
   "source": [
    "id_batch_histology = make_id_batch_histology(covariate, \"seq_center\")"
   ]
  },
  {
   "cell_type": "code",
   "execution_count": null,
   "metadata": {
    "scrolled": true
   },
   "outputs": [],
   "source": [
    "my_rsem_polya_plots = make_histology_pca_plots(dat_rsem_polya, \n",
    "                                               id_batch_histology, \n",
    "                                               gene_id = dat_rsem_polya$gene_id, \n",
    "                                               report_name = \"rsem_polya_sequence\",\n",
    "                                               \"pbta-gene-expression-rsem-tpm-combat-seq-center.polya.rds\")"
   ]
  },
  {
   "cell_type": "markdown",
   "metadata": {},
   "source": [
    "##### Graph before adjusting for batch effects"
   ]
  },
  {
   "cell_type": "code",
   "execution_count": null,
   "metadata": {},
   "outputs": [],
   "source": [
    "my_rsem_polya_plots[1]"
   ]
  },
  {
   "cell_type": "markdown",
   "metadata": {},
   "source": [
    "- File = \"pbta-gene-expression-rsem-tpm.polya.rds\"\n",
    "- Batch = sequence center\n",
    "- Conclusion: **There are batch effects**. On a small scale analysis, you can see that batch 1 groups around the **top left corner** while batch 2 groups in the **bottom left corner**."
   ]
  },
  {
   "cell_type": "markdown",
   "metadata": {},
   "source": [
    "##### Show batch effects after adjustment via [combat](https://rdrr.io/bioc/sva/man/ComBat.html)"
   ]
  },
  {
   "cell_type": "code",
   "execution_count": null,
   "metadata": {},
   "outputs": [],
   "source": [
    "my_rsem_polya_plots[2]"
   ]
  },
  {
   "cell_type": "markdown",
   "metadata": {},
   "source": [
    "- Batch effects are now no longer present because batches one and two seem to be evenly distributed\n"
   ]
  },
  {
   "cell_type": "markdown",
   "metadata": {},
   "source": [
    "#### Part 1.2:  Rsem-Stranded"
   ]
  },
  {
   "cell_type": "markdown",
   "metadata": {},
   "source": [
    "##### Prepare Data "
   ]
  },
  {
   "cell_type": "code",
   "execution_count": null,
   "metadata": {},
   "outputs": [],
   "source": [
    "my_rsem_stranded_plots = make_histology_pca_plots(dat_rsem_stranded, id_batch_histology, gene_id = dat_rsem_stranded$gene_id, report_name = \"rsem_stranded_sequence\", \"pbta-gene-expression-rsem-tpm-combat-seq-center.stranded.rds\")"
   ]
  },
  {
   "cell_type": "markdown",
   "metadata": {},
   "source": [
    "##### Graph before adjusting for batch effects"
   ]
  },
  {
   "cell_type": "code",
   "execution_count": null,
   "metadata": {
    "code_folding": []
   },
   "outputs": [],
   "source": [
    "my_rsem_stranded_plots[1]"
   ]
  },
  {
   "cell_type": "markdown",
   "metadata": {},
   "source": [
    "- File = \"pbta-gene-expression-rsem-tpm.stranded.rds\"\n",
    "- Batch = sequence center\n",
    "- Conclusion: **Cannot determine** from this image if there are batch effects. BatchQC is required (see script for batch-sequence-effects.R). Visually it appears that there are none."
   ]
  },
  {
   "cell_type": "markdown",
   "metadata": {},
   "source": [
    "##### Show batch effects after adjustment via [combat](https://rdrr.io/bioc/sva/man/ComBat.html)"
   ]
  },
  {
   "cell_type": "code",
   "execution_count": null,
   "metadata": {
    "scrolled": false
   },
   "outputs": [],
   "source": [
    "my_rsem_stranded_plots[2]"
   ]
  },
  {
   "cell_type": "markdown",
   "metadata": {},
   "source": [
    "- No significant changes made to histologies, Batch one doesn't focus as much on the top right quadrant. This batch correction may not be necessary though."
   ]
  },
  {
   "cell_type": "markdown",
   "metadata": {},
   "source": [
    "### Part 2: ***Kallisto Files***"
   ]
  },
  {
   "cell_type": "markdown",
   "metadata": {},
   "source": [
    "#### Part 2.1: Kallisto Polya"
   ]
  },
  {
   "cell_type": "markdown",
   "metadata": {},
   "source": [
    "##### Prepare Data"
   ]
  },
  {
   "cell_type": "code",
   "execution_count": null,
   "metadata": {},
   "outputs": [],
   "source": [
    "my_kallisto_polya_plots = make_histology_pca_plots(dat_kallisto_polya, id_batch_histology, gene_id = dat_kallisto_polya$gene_id, report_name = \"kallisto_polya_sequence\", \"pbta-gene-expression-kallisto-combat-seq-center.polya.rds\")"
   ]
  },
  {
   "cell_type": "markdown",
   "metadata": {},
   "source": [
    "##### Graph before adjusting for batch effects"
   ]
  },
  {
   "cell_type": "code",
   "execution_count": null,
   "metadata": {
    "code_folding": []
   },
   "outputs": [],
   "source": [
    "my_kallisto_polya_plots[1]"
   ]
  },
  {
   "cell_type": "markdown",
   "metadata": {},
   "source": [
    "- File = \"pbta-gene-expression-kallisto.polya.rds\"\n",
    "- Batch = sequence center\n",
    "- Conclusion: **Cannot determine** from this image if there are batch effects. BatchQC is required (see script for batch-sequence-effects.R). Visually it appears that there are none."
   ]
  },
  {
   "cell_type": "markdown",
   "metadata": {},
   "source": [
    "##### Show batch effects after adjustment via [combat](https://rdrr.io/bioc/sva/man/ComBat.html)"
   ]
  },
  {
   "cell_type": "code",
   "execution_count": null,
   "metadata": {},
   "outputs": [],
   "source": [
    "my_kallisto_polya_plots[2]"
   ]
  },
  {
   "cell_type": "markdown",
   "metadata": {},
   "source": [
    "- Batch correction seems unecessary for this file. The changes doesn't seem particularly useful."
   ]
  },
  {
   "cell_type": "markdown",
   "metadata": {},
   "source": [
    "#### Part 2.2: Kallisto Stranded"
   ]
  },
  {
   "cell_type": "markdown",
   "metadata": {},
   "source": [
    "##### Prepare Data"
   ]
  },
  {
   "cell_type": "code",
   "execution_count": null,
   "metadata": {},
   "outputs": [],
   "source": [
    "my_kallisto_standed_plots = make_histology_pca_plots(dat_kallisto_stranded, id_batch_histology, gene_id = dat_kallisto_stranded$gene_id, report_name = \"kallisto_stranded_sequence\", \"pbta-gene-expression-kallisto-combat-seq-center.stranded.rds\")"
   ]
  },
  {
   "cell_type": "markdown",
   "metadata": {},
   "source": [
    "##### Graph before adjusting for batch effects"
   ]
  },
  {
   "cell_type": "code",
   "execution_count": null,
   "metadata": {
    "code_folding": [
     1
    ]
   },
   "outputs": [],
   "source": [
    "\n",
    "my_kallisto_standed_plots[1]"
   ]
  },
  {
   "cell_type": "markdown",
   "metadata": {},
   "source": [
    "- File = \"pbta-gene-expression-kallisto.stranded.rds\"\n",
    "- Batch = sequence center\n",
    "- Conlusion: There appears to be batch effects. Batch 2 tends to group around the bottom of the graph"
   ]
  },
  {
   "cell_type": "markdown",
   "metadata": {},
   "source": [
    "##### Show batch effects after adjustment via [combat](https://rdrr.io/bioc/sva/man/ComBat.html)"
   ]
  },
  {
   "cell_type": "code",
   "execution_count": null,
   "metadata": {
    "scrolled": true
   },
   "outputs": [],
   "source": [
    "my_kallisto_standed_plots[2]"
   ]
  },
  {
   "cell_type": "markdown",
   "metadata": {},
   "source": [
    "- Batch Effects no longer present because batches one and two seem to be evenly distributed"
   ]
  },
  {
   "cell_type": "markdown",
   "metadata": {},
   "source": [
    "# Cohort Batch effects"
   ]
  },
  {
   "cell_type": "markdown",
   "metadata": {},
   "source": [
    "### Part 1: ***Rsem-tpm Files***"
   ]
  },
  {
   "cell_type": "markdown",
   "metadata": {},
   "source": [
    "#### Part 1.1: Rsem-Polya"
   ]
  },
  {
   "cell_type": "markdown",
   "metadata": {},
   "source": [
    "##### Prepare Data"
   ]
  },
  {
   "cell_type": "code",
   "execution_count": null,
   "metadata": {},
   "outputs": [],
   "source": [
    "id_batch_histology = make_id_batch_histology(covariate, \"cohort\")"
   ]
  },
  {
   "cell_type": "code",
   "execution_count": null,
   "metadata": {
    "scrolled": true
   },
   "outputs": [],
   "source": [
    "my_rsem_polya_plots = make_histology_pca_plots(dat_rsem_polya, \n",
    "                                               id_batch_histology, \n",
    "                                               gene_id = dat_rsem_polya$gene_id, \n",
    "                                               report_name = \"rsem_polya_cohort\",\n",
    "                                               \"pbta-gene-expression-rsem-tpm-combat-cohort.polya.rds\")"
   ]
  },
  {
   "cell_type": "markdown",
   "metadata": {},
   "source": [
    "##### Graph before adjusting for batch effects"
   ]
  },
  {
   "cell_type": "code",
   "execution_count": null,
   "metadata": {},
   "outputs": [],
   "source": [
    "my_rsem_polya_plots[1]"
   ]
  },
  {
   "cell_type": "markdown",
   "metadata": {},
   "source": [
    "- File = \"pbta-gene-expression-rsem-tpm.polya.rds\"\n",
    "- Batch = sequence center\n",
    "- Conclusion: There are batch effects. You can see that batch 1 groups around the top left corner while batch two groups in the bottom left corner\n",
    "- ***NOTE***: For this gene expression file, there are only 59 patients. As such, the batches cohort and sequence center overlap perfectly. Therefore, one cannot remove the batch effects of one without removing the batch effects of the other"
   ]
  },
  {
   "cell_type": "markdown",
   "metadata": {},
   "source": [
    "##### Show batch effects after adjustment via [combat](https://rdrr.io/bioc/sva/man/ComBat.html)"
   ]
  },
  {
   "cell_type": "code",
   "execution_count": null,
   "metadata": {},
   "outputs": [],
   "source": [
    "my_rsem_polya_plots[2]"
   ]
  },
  {
   "cell_type": "markdown",
   "metadata": {},
   "source": [
    "- Batch Effects no longer present\n"
   ]
  },
  {
   "cell_type": "markdown",
   "metadata": {},
   "source": [
    "#### Part 1.2:  Rsem-Stranded"
   ]
  },
  {
   "cell_type": "markdown",
   "metadata": {},
   "source": [
    "##### Prepare Data (there is only one batch so this shouldn't work)"
   ]
  },
  {
   "cell_type": "code",
   "execution_count": null,
   "metadata": {},
   "outputs": [],
   "source": [
    "my_rsem_stranded_plots_temp = make_histology_pca_plots(dat_rsem_stranded, id_batch_histology, gene_id = dat_rsem_stranded$gene_id, report_name = \"rsem_stranded_cohort\", \"pbta-gene-expression-rsem-tpm-combat-cohort.stranded.rds\")"
   ]
  },
  {
   "cell_type": "markdown",
   "metadata": {},
   "source": [
    "***NOTE***: because there is only one cohort batch in the file above, an error message should have popped up showing that ComBat failed to run"
   ]
  },
  {
   "cell_type": "markdown",
   "metadata": {},
   "source": [
    "##### Graph before adjusting for batch effects"
   ]
  },
  {
   "cell_type": "code",
   "execution_count": null,
   "metadata": {},
   "outputs": [],
   "source": [
    "my_rsem_stranded_plots_temp[1]"
   ]
  },
  {
   "cell_type": "markdown",
   "metadata": {},
   "source": [
    "- File = \"pbta-gene-expression-rsem-tpm.stranded.rds\"\n",
    "- Batch = Cohort\n",
    "- Conclusion: No batch effects."
   ]
  },
  {
   "cell_type": "markdown",
   "metadata": {},
   "source": [
    "##### Show batch effects after adjustment via [combat](https://rdrr.io/bioc/sva/man/ComBat.html)"
   ]
  },
  {
   "cell_type": "code",
   "execution_count": null,
   "metadata": {
    "scrolled": false
   },
   "outputs": [],
   "source": [
    "my_rsem_stranded_plots_temp[2]"
   ]
  },
  {
   "cell_type": "markdown",
   "metadata": {},
   "source": [
    "- No graph to show"
   ]
  },
  {
   "cell_type": "markdown",
   "metadata": {},
   "source": [
    "### Part 2: ***Kallisto Files***"
   ]
  },
  {
   "cell_type": "markdown",
   "metadata": {},
   "source": [
    "#### Part 2.1: Kallisto Polya"
   ]
  },
  {
   "cell_type": "markdown",
   "metadata": {},
   "source": [
    "##### Prepare Data"
   ]
  },
  {
   "cell_type": "code",
   "execution_count": null,
   "metadata": {},
   "outputs": [],
   "source": [
    "my_kallisto_polya_plots = make_histology_pca_plots(dat_kallisto_polya, id_batch_histology, gene_id = dat_kallisto_polya$gene_id, report_name = \"kallisto_polya_cohort\", \"pbta-gene-expression-kallisto-combat-cohort.polya.rds\")"
   ]
  },
  {
   "cell_type": "markdown",
   "metadata": {},
   "source": [
    "##### Graph before adjusting for batch effects"
   ]
  },
  {
   "cell_type": "code",
   "execution_count": null,
   "metadata": {
    "code_folding": []
   },
   "outputs": [],
   "source": [
    "my_kallisto_polya_plots[1]"
   ]
  },
  {
   "cell_type": "markdown",
   "metadata": {},
   "source": [
    "- File = \"pbta-gene-expression-kallisto.polya.rds\"\n",
    "- Batch = cohort\n",
    "- Conclusion: **Cannot determine** from this image if there are batch effects. BatchQC is required (see script for batch-sequence-effects.R). Visually it appears that there are none.\n",
    "- ***NOTE***: Batches cohort and sequence center completely overlap"
   ]
  },
  {
   "cell_type": "markdown",
   "metadata": {},
   "source": [
    "##### Show batch effects after adjustment via [combat](https://rdrr.io/bioc/sva/man/ComBat.html)"
   ]
  },
  {
   "cell_type": "code",
   "execution_count": null,
   "metadata": {},
   "outputs": [],
   "source": [
    "my_kallisto_polya_plots[2]"
   ]
  },
  {
   "cell_type": "markdown",
   "metadata": {},
   "source": [
    "- Batch correction seems unecessary for this file. The changes doesn't seem particularly useful."
   ]
  },
  {
   "cell_type": "markdown",
   "metadata": {},
   "source": [
    "#### Part 2.2: Kallisto Stranded"
   ]
  },
  {
   "cell_type": "markdown",
   "metadata": {},
   "source": [
    "##### Prepare Data"
   ]
  },
  {
   "cell_type": "code",
   "execution_count": null,
   "metadata": {},
   "outputs": [],
   "source": [
    "my_kallisto_standed_plots = make_histology_pca_plots(dat_kallisto_stranded, id_batch_histology, gene_id = dat_kallisto_stranded$gene_id, report_name = \"kallisto_stranded_cohort\", \"pbta-gene-expression-kallisto-combat-cohort.stranded.rds\")"
   ]
  },
  {
   "cell_type": "markdown",
   "metadata": {},
   "source": [
    "##### Graph before adjusting for batch effects"
   ]
  },
  {
   "cell_type": "code",
   "execution_count": null,
   "metadata": {
    "code_folding": []
   },
   "outputs": [],
   "source": [
    "\n",
    "my_kallisto_standed_plots[1]"
   ]
  },
  {
   "cell_type": "markdown",
   "metadata": {},
   "source": [
    "- Only one Batch"
   ]
  },
  {
   "cell_type": "markdown",
   "metadata": {},
   "source": [
    "##### Show batch effects after adjustment via [combat](https://rdrr.io/bioc/sva/man/ComBat.html)"
   ]
  },
  {
   "cell_type": "code",
   "execution_count": null,
   "metadata": {
    "scrolled": true
   },
   "outputs": [],
   "source": [
    "my_kallisto_standed_plots[2]"
   ]
  },
  {
   "cell_type": "markdown",
   "metadata": {},
   "source": [
    "- There was only one batch so it doesn't make sense to adjust for batch effects"
   ]
  },
  {
   "cell_type": "markdown",
   "metadata": {},
   "source": [
    "# Method (polyA vs stranded) Batch effects"
   ]
  },
  {
   "cell_type": "markdown",
   "metadata": {},
   "source": [
    "### Part 1: ***Rsem Files***"
   ]
  },
  {
   "cell_type": "markdown",
   "metadata": {},
   "source": [
    "##### Prepare Data"
   ]
  },
  {
   "cell_type": "code",
   "execution_count": null,
   "metadata": {},
   "outputs": [],
   "source": [
    "id_histology = cbind(\"Kids_First_Biospecimen_ID\" = covariate$Kids_First_Biospecimen_ID, \"histology\" = covariate$short_histology)\n",
    "colnames(id_histology) <- c(\"Kids_First_Biospecimen_ID\", \"histology\")\n",
    "id_histology = as_tibble(id_histology)"
   ]
  },
  {
   "cell_type": "code",
   "execution_count": null,
   "metadata": {
    "scrolled": true
   },
   "outputs": [],
   "source": [
    "my_rsem_plots = make_histology_pca_plots_methods(dat_rsem_polya, dat_rsem_stranded, id_histology, report_name = \"rsem_method\")"
   ]
  },
  {
   "cell_type": "markdown",
   "metadata": {},
   "source": [
    "##### Graph before adjusting for batch effects"
   ]
  },
  {
   "cell_type": "code",
   "execution_count": null,
   "metadata": {},
   "outputs": [],
   "source": [
    "my_rsem_plots[1]"
   ]
  },
  {
   "cell_type": "markdown",
   "metadata": {},
   "source": [
    "- Files = \"pbta-gene-expression-rsem-tpm.polya.rds\", \"pbta-gene-expression-rsem-tpm.stranded.rds\"\n",
    "- Batch = sequence center\n",
    "- Conclusion: There are batch effects. You can see that batch 1 groups around the top left corner while batch two groups in the bottom left corner"
   ]
  },
  {
   "cell_type": "markdown",
   "metadata": {},
   "source": [
    "##### Show batch effects after adjustment via [combat](https://rdrr.io/bioc/sva/man/ComBat.html)"
   ]
  },
  {
   "cell_type": "code",
   "execution_count": null,
   "metadata": {},
   "outputs": [],
   "source": [
    "my_rsem_plots[2]"
   ]
  },
  {
   "cell_type": "markdown",
   "metadata": {},
   "source": [
    "- Batch Effects no longer present\n",
    "- You can still see the difference in histologies though. However, HGAT and LGAT show more overlap than they did previously\n"
   ]
  },
  {
   "cell_type": "markdown",
   "metadata": {},
   "source": [
    "### Part 2: ***Stranded Files***"
   ]
  },
  {
   "cell_type": "markdown",
   "metadata": {},
   "source": [
    "#### Part 2.1: Kallisto Polya"
   ]
  },
  {
   "cell_type": "markdown",
   "metadata": {},
   "source": [
    "##### Prepare Data"
   ]
  },
  {
   "cell_type": "code",
   "execution_count": null,
   "metadata": {},
   "outputs": [],
   "source": [
    "my_kallisto_plots = make_histology_pca_plots_methods(dat_kallisto_polya, dat_kallisto_stranded, id_histology, report_name = \"kallisto_method\")"
   ]
  },
  {
   "cell_type": "markdown",
   "metadata": {},
   "source": [
    "##### Graph before adjusting for batch effects"
   ]
  },
  {
   "cell_type": "code",
   "execution_count": null,
   "metadata": {
    "code_folding": []
   },
   "outputs": [],
   "source": [
    "my_kallisto_plots[1]"
   ]
  },
  {
   "cell_type": "markdown",
   "metadata": {},
   "source": [
    "- Files = \"pbta-gene-expression-kallisto-tpm.polya.rds\", \"pbta-gene-expression-kallisto-tpm.stranded.rds\"\n",
    "- Batch = sequence center\n",
    "- Conclusion: There are batch effects. You can see that batch 1 groups around the top left corner while batch two groups in the bottom left corner"
   ]
  },
  {
   "cell_type": "markdown",
   "metadata": {},
   "source": [
    "##### Show batch effects after adjustment via [combat](https://rdrr.io/bioc/sva/man/ComBat.html)"
   ]
  },
  {
   "cell_type": "code",
   "execution_count": null,
   "metadata": {
    "scrolled": true
   },
   "outputs": [],
   "source": [
    "my_kallisto_plots[2]"
   ]
  },
  {
   "cell_type": "markdown",
   "metadata": {},
   "source": [
    "- Batch Effects no longer present\n",
    "- You can still see the difference in histologies though. However, HGAT and LGAT show more overlap than they did previously\n",
    "\n"
   ]
  }
 ],
 "metadata": {
  "kernelspec": {
   "display_name": "R",
   "language": "R",
   "name": "ir"
  },
  "language_info": {
   "codemirror_mode": "r",
   "file_extension": ".r",
   "mimetype": "text/x-r-source",
   "name": "R",
   "pygments_lexer": "r",
   "version": "3.6.2"
  }
 },
 "nbformat": 4,
 "nbformat_minor": 2
}
