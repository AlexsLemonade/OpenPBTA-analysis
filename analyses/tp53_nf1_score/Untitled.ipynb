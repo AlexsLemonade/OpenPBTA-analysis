{
 "cells": [
  {
   "cell_type": "code",
   "execution_count": 5,
   "metadata": {},
   "outputs": [],
   "source": [
    "import pandas as pd"
   ]
  },
  {
   "cell_type": "code",
   "execution_count": 6,
   "metadata": {},
   "outputs": [],
   "source": [
    "full_status_df = pd.read_csv(\"results/tp53_altered_status.tsv\",sep=\"\\t\")"
   ]
  },
  {
   "cell_type": "code",
   "execution_count": 7,
   "metadata": {},
   "outputs": [],
   "source": [
    "full_status_df['tp53_status']= full_status_df.apply(lambda x: (1\n",
    "                                                               # IF\n",
    "                                                               # ~ 1 if both SNV/CNV counts are more than 1 so can be considered as a TP53 double hit\n",
    "                                                               if (x['SNV_indel_counts'] !=0 and x['CNV_loss_counts'] != 0 or\n",
    "\t\t\t\t\t\t\t       # ~ 1 if SNV == 1 and cancer_predisposition == Li-Fraumeni syndrome\t\n",
    "                                                                   (x['SNV_indel_counts'] == 1 and (x['cancer_predispositions'] == \"Li-Fraumeni syndrome\")) or\n",
    "                                                               # ~ 1 if SNV == 1 and cancer_predisposition == Li-Fraumeni syndrome\n",
    "                                                                   (x['CNV_loss_counts'] == 1 and (x['cancer_predispositions'] == \"Li-Fraumeni syndrome\")) or\n",
    "                                                               # ~ 1 if SNV count is more than 1 so consider it as a double hit    \n",
    "                                                                   (x['SNV_indel_counts'] >1))\n",
    "                                                                   else 0), axis=1)"
   ]
  },
  {
   "cell_type": "code",
   "execution_count": 8,
   "metadata": {},
   "outputs": [
    {
     "data": {
      "text/plain": [
       "0    1091\n",
       "1      39\n",
       "Name: tp53_status, dtype: int64"
      ]
     },
     "execution_count": 8,
     "metadata": {},
     "output_type": "execute_result"
    }
   ],
   "source": [
    "full_status_df['tp53_status'].value_counts()"
   ]
  },
  {
   "cell_type": "code",
   "execution_count": 9,
   "metadata": {},
   "outputs": [
    {
     "data": {
      "text/plain": [
       "0    1091\n",
       "1      39\n",
       "Name: tp53_status, dtype: int64"
      ]
     },
     "execution_count": 9,
     "metadata": {},
     "output_type": "execute_result"
    }
   ],
   "source": [
    "full_status_df['tp53_status'].value_counts()"
   ]
  },
  {
   "cell_type": "code",
   "execution_count": null,
   "metadata": {},
   "outputs": [],
   "source": []
  }
 ],
 "metadata": {
  "kernelspec": {
   "display_name": "Python 3",
   "language": "python",
   "name": "python3"
  },
  "language_info": {
   "codemirror_mode": {
    "name": "ipython",
    "version": 3
   },
   "file_extension": ".py",
   "mimetype": "text/x-python",
   "name": "python",
   "nbconvert_exporter": "python",
   "pygments_lexer": "ipython3",
   "version": "3.7.1"
  }
 },
 "nbformat": 4,
 "nbformat_minor": 2
}
