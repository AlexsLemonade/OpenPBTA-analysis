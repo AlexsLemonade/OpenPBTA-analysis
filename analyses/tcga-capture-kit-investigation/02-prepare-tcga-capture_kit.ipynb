{
 "cells": [
  {
   "cell_type": "markdown",
   "metadata": {},
   "source": [
    "This notebook contains shell script which checks and prepares the TCGA BED files"
   ]
  },
  {
   "cell_type": "code",
   "execution_count": 12,
   "metadata": {},
   "outputs": [
    {
     "name": "stdout",
     "output_type": "stream",
     "text": [
      "filename                                           kit_name                                 kit_url\n",
      "C494.TCGA-DU-5855-10A-01D-1705-08.5_gdc_realn.bam  Custom V2 Exome Bait, 48 RXN X 16 tubes  https://bitbucket.org/cghub/cghub-capture-kit-info/raw/c38c4b9cb500b724de46546fd52f8d532fd9eba9/BI/vendor/Agilent/whole_exome_agilent_1.1_refseq_plus_3_boosters.targetIntervals.bed\n",
      "C494.TCGA-DU-5847-10A-01D-1705-08.5_gdc_realn.bam  Custom V2 Exome Bait, 48 RXN X 16 tubes  https://bitbucket.org/cghub/cghub-capture-kit-info/raw/c38c4b9cb500b724de46546fd52f8d532fd9eba9/BI/vendor/Agilent/whole_exome_agilent_1.1_refseq_plus_3_boosters.targetIntervals.bed\n",
      "C494.TCGA-HT-7681-10C-01D-2396-08.1_gdc_realn.bam  Custom V2 Exome Bait, 48 RXN X 16 tubes  https://bitbucket.org/cghub/cghub-capture-kit-info/raw/c38c4b9cb500b724de46546fd52f8d532fd9eba9/BI/vendor/Agilent/whole_exome_agilent_1.1_refseq_plus_3_boosters.targetIntervals.bed\n"
     ]
    }
   ],
   "source": [
    "# preview results/tcga-capture_kit-info.tsv\n",
    "TSV='results/tcga-capture_kit-info.tsv'\n",
    "head -4 $TSV | column -t -s $'\\t'"
   ]
  },
  {
   "cell_type": "code",
   "execution_count": 13,
   "metadata": {},
   "outputs": [
    {
     "name": "stdout",
     "output_type": "stream",
     "text": [
      "C282.TCGA-06-0745-10A-01W.3_gdc_realn.bam\tCustom V2 Exome Bait, 48 RXN X 16 tubes|Custom V2 Exome Bait, 48 RXN X 16 tubes\n",
      "C282.TCGA-14-0817-10A-01W.4_gdc_realn.bam\tCustom V2 Exome Bait, 48 RXN X 16 tubes|Custom V2 Exome Bait, 48 RXN X 16 tubes\n",
      "C282.TCGA-14-0871-10A-01W.7_gdc_realn.bam\tCustom V2 Exome Bait, 48 RXN X 16 tubes|Custom V2 Exome Bait, 48 RXN X 16 tubes\n",
      "C282.TCGA-16-0850-10A-01W.4_gdc_realn.bam\tCustom V2 Exome Bait, 48 RXN X 16 tubes|Custom V2 Exome Bait, 48 RXN X 16 tubes\n"
     ]
    }
   ],
   "source": [
    "# list BAM with mixed/multiple capture kits\n",
    "grep \"|\" $TSV | cut -f1,2"
   ]
  },
  {
   "cell_type": "markdown",
   "metadata": {},
   "source": [
    "Those BAMs from the `grep` command above are those with more than one capture kit which neither the GDC nor its origin data center could retrieve/figure out what the actual capture kit had been applied. We should just generate intersec BED for those samples and used that for our analysis.\n",
    "\n",
    "BAMs with this issue are:\n",
    "```\n",
    "C282.TCGA-06-0745-10A-01W.3_gdc_realn.bam\n",
    "C282.TCGA-14-0817-10A-01W.4_gdc_realn.bam\n",
    "C282.TCGA-14-0871-10A-01W.7_gdc_realn.bam\n",
    "C282.TCGA-16-0850-10A-01W.4_gdc_realn.bam\n",
    "```"
   ]
  },
  {
   "cell_type": "code",
   "execution_count": 14,
   "metadata": {},
   "outputs": [
    {
     "name": "stdout",
     "output_type": "stream",
     "text": [
      "   4 https://bitbucket.org/cghub/cghub-capture-kit-info/raw/c38c4b9cb500b724de46546fd52f8d532fd9eba9/BI/vendor/Agilent/tcga_6k_genes.targetIntervals.bed\n",
      " 154 https://bitbucket.org/cghub/cghub-capture-kit-info/raw/c38c4b9cb500b724de46546fd52f8d532fd9eba9/BI/vendor/Agilent/whole_exome_agilent_1.1_refseq_plus_3_boosters.targetIntervals.bed\n",
      "   2 https://bitbucket.org/cghub/cghub-capture-kit-info/raw/c38c4b9cb500b724de46546fd52f8d532fd9eba9/BI/vendor/Agilent/whole_exome_agilent_designed_120.targetIntervals.bed\n",
      "   4 https://bitbucket.org/cghub/cghub-capture-kit-info/raw/c38c4b9cb500b724de46546fd52f8d532fd9eba9/BI/vendor/Agilent/whole_exome_agilent_plus_tcga_6k.targetIntervals.bed\n"
     ]
    }
   ],
   "source": [
    "# get and count uniq bed url\n",
    "sed 1d $TSV \\\n",
    "| cut -f3 | tr \"\\|\" \"\\n\" \\\n",
    "| sort | uniq -c"
   ]
  },
  {
   "cell_type": "code",
   "execution_count": 17,
   "metadata": {},
   "outputs": [],
   "source": [
    "# download bed to scratch/\n",
    "sed 1d $TSV \\\n",
    "| cut -f3 | tr \"\\|\" \"\\n\" | sort -u \\\n",
    "| xargs -I {} curl -sJO {} && mv *.bed ../../scratch/"
   ]
  },
  {
   "cell_type": "code",
   "execution_count": 19,
   "metadata": {},
   "outputs": [
    {
     "name": "stdout",
     "output_type": "stream",
     "text": [
      "==> ../../scratch/tcga_6k_genes.targetIntervals.bed <==\n",
      "1\t934438\t934812\ttarget_1\t+\n",
      "1\t934905\t934993\ttarget_2\t+\n",
      "1\t935071\t935353\ttarget_3\t+\n",
      "\n",
      "==> ../../scratch/whole_exome_agilent_1.1_refseq_plus_3_boosters.targetIntervals.bed <==\n",
      "1\t30365\t30503\ttarget_1\t+\n",
      "1\t69088\t70010\ttarget_2\t+\n",
      "1\t367656\t368599\ttarget_3\t+\n",
      "\n",
      "==> ../../scratch/whole_exome_agilent_designed_120.targetIntervals.bed <==\n",
      "1\t30365\t30503\ttarget_1\t+\n",
      "1\t69088\t70010\ttarget_2\t+\n",
      "1\t367656\t368599\ttarget_3\t+\n",
      "\n",
      "==> ../../scratch/whole_exome_agilent_plus_tcga_6k.targetIntervals.bed <==\n",
      "MT\t647\t1601\ttcga6k_target_72201\t+\n",
      "MT\t3306\t4263\ttcga6k_target_72202\t+\n",
      "MT\t4469\t5511\ttcga6k_target_72203\t+\n"
     ]
    }
   ],
   "source": [
    "# preview bed\n",
    "head -3 ../../scratch/*.bed"
   ]
  },
  {
   "cell_type": "markdown",
   "metadata": {},
   "source": [
    "Those are all hg19 based coordinates, use [UCSC online LiftOVer](https://genome.ucsc.edu/cgi-bin/hgLiftOver) to convert to GRCh38 based bed. Add `chr` to the TCGA bed to make sure its format is liftover compatible. "
   ]
  },
  {
   "cell_type": "code",
   "execution_count": 20,
   "metadata": {},
   "outputs": [],
   "source": [
    "# adding chr for liftover\n",
    "sed 1d $TSV \\\n",
    "| cut -f3 | tr \"\\|\" \"\\n\" | sort -u \\\n",
    "| while read i\n",
    "do \n",
    "    filename=`basename $i`\n",
    "    curl -s $i | awk '{print \"chr\"$0}' > ../../scratch/$filename\n",
    "done"
   ]
  },
  {
   "cell_type": "markdown",
   "metadata": {},
   "source": [
    "upload all the BED files from `scratch/` to UCSC LiftOVer for the converting, and download all liftover'd BED to `results/`"
   ]
  },
  {
   "cell_type": "code",
   "execution_count": null,
   "metadata": {},
   "outputs": [],
   "source": []
  }
 ],
 "metadata": {
  "kernelspec": {
   "display_name": "Bash",
   "language": "bash",
   "name": "bash"
  },
  "language_info": {
   "codemirror_mode": "shell",
   "file_extension": ".sh",
   "mimetype": "text/x-sh",
   "name": "bash"
  }
 },
 "nbformat": 4,
 "nbformat_minor": 2
}
