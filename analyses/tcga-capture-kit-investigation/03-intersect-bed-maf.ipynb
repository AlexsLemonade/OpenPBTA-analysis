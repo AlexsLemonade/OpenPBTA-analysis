{
 "cells": [
  {
   "cell_type": "code",
   "execution_count": 4,
   "metadata": {},
   "outputs": [],
   "source": [
    "DATA='../../data'\n",
    "SCRATCH='../../scratch'\n",
    "bedtools intersect -a $DATA/WGS.hg38.strelka2.unpadded.bed -b $DATA/WGS.hg38.mutect2.vardict.unpadded.bed \\\n",
    "| bedtools intersect -a - -b $DATA/WGS.hg38.lancet.unpadded.bed \\\n",
    "| bedtools intersect -a - -b results/hg38lft-whole_exome_agilent_1.1_refseq_plus_3_boosters.targetIntervals.bed \\\n",
    "| bedtools intersect -a - -b results/hg38lft-whole_exome_agilent_designed_120.targetIntervals.bed \\\n",
    "| bedtools intersect -a - -b results/hg38lft-whole_exome_agilent_plus_tcga_6k.targetIntervals.bed \\\n",
    "| bedtools intersect -a - -b results/hg38lft-tcga_6k_genes.targetIntervals.bed \\\n",
    "> $SCRATCH/intersect-all-tcga_pbta.bed"
   ]
  },
  {
   "cell_type": "code",
   "execution_count": 3,
   "metadata": {},
   "outputs": [],
   "source": [
    "# callers=['lancet', 'mutect2', 'strelka2']\n",
    "for caller in 'lancet' 'mutect2' 'strelka2'\n",
    "do\n",
    "    zcat < $DATA/pbta-snv-$caller.vep.maf.gz \\\n",
    "    | sed 1,2d | cut -f5-7,16 \\\n",
    "    | bedtools intersect -a - -b $SCRATCH/intersect-all-tcga_pbta.bed \\\n",
    "    | cut -f4 | sort | uniq -c \\\n",
    "    | awk -v c=$caller 'BEGIN{OFS=\"\\t\"}{print $2,$1,\"PBTA\",c}';\n",
    "    zcat < $DATA/pbta-tcga-snv-$caller.vep.maf.gz \\\n",
    "    | sed 1,2d | cut -f5-7,16 \\\n",
    "    | bedtools intersect -a - -b $SCRATCH/intersect-all-tcga_pbta.bed \\\n",
    "    | cut -f4 | sort | uniq -c \\\n",
    "    | awk -v c=$caller 'BEGIN{OFS=\"\\t\"}{print $2,$1,\"TCGA\",c}';\n",
    "done > $SCRATCH/somatic-count.tsv\n"
   ]
  },
  {
   "cell_type": "code",
   "execution_count": 4,
   "metadata": {},
   "outputs": [],
   "source": [
    "touch $SCRATCH/tumor_type.tsv\n",
    "sed 1d $DATA/pbta-histologies.tsv | cut -f1,17 > $SCRATCH/tumor_type.tsv && \\\n",
    "sed 1d $DATA/pbta-tcga-manifest.tsv | cut -f2,5 >> $SCRATCH/tumor_type.tsv"
   ]
  },
  {
   "cell_type": "code",
   "execution_count": 5,
   "metadata": {},
   "outputs": [],
   "source": [
    "cat $SCRATCH/somatic-count.tsv | cut -f1 \\\n",
    "| while read i\n",
    "do\n",
    "    grep $i $SCRATCH/tumor_type.tsv | cut -f2\n",
    "done | paste $SCRATCH/somatic-count.tsv - > $SCRATCH/somatic-count_with-histologies.tsv"
   ]
  },
  {
   "cell_type": "code",
   "execution_count": null,
   "metadata": {},
   "outputs": [],
   "source": []
  }
 ],
 "metadata": {
  "kernelspec": {
   "display_name": "Bash",
   "language": "bash",
   "name": "bash"
  },
  "language_info": {
   "codemirror_mode": "shell",
   "file_extension": ".sh",
   "mimetype": "text/x-sh",
   "name": "bash"
  }
 },
 "nbformat": 4,
 "nbformat_minor": 2
}
