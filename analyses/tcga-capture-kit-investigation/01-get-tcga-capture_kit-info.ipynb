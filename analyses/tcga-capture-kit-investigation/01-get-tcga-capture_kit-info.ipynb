{
 "cells": [
  {
   "cell_type": "markdown",
   "metadata": {},
   "source": [
    "This notebook is a breakdown python script which is aim to retrieve the TCGA's exome capture kit from GDC's file API endpoint so that we can use the correct BED for process like somatic calling and TMB calc etc.\n",
    "\n",
    "We have downloaded the TCGA based a requested manifest, idealy we should have all file UUID captured in that manifest, but this script is going to use the released [TCGA manifest](https://s3.amazonaws.com/kf-openaccess-us-east-1-prd-pbta/data/release-v14-20200203/pbta-tcga-manifest.tsv) as the base to retrieve its GDC file uuid and then track down the file metadata to get the actual target_capture_kit info."
   ]
  },
  {
   "cell_type": "code",
   "execution_count": 1,
   "metadata": {},
   "outputs": [],
   "source": [
    "import requests\n",
    "import json\n",
    "import pandas as pd\n",
    "import os\n",
    "\n",
    "# 1. get TCGA manifest from the data release\n",
    "## set data bucket base url and version \n",
    "PBTA_BUCKET = 'https://s3.amazonaws.com/kf-openaccess-us-east-1-prd-pbta/data/'\n",
    "RELEASE = 'release-v14-20200203/'\n",
    "\n",
    "## GET and load manifest\n",
    "tcga_manifest = requests.get(\n",
    "    PBTA_BUCKET+RELEASE+\"pbta-tcga-manifest.tsv\").content\n",
    "\n",
    "## iterate TCGA manifest, to get all the file names\n",
    "tcga_manifest_lines = tcga_manifest.split(\"\\n\")\n",
    "tcga_filenames = []\n",
    "for line in tcga_manifest_lines:\n",
    "    tcga_filenames.append(line.split(\"\\t\")[0])\n"
   ]
  },
  {
   "cell_type": "code",
   "execution_count": 2,
   "metadata": {},
   "outputs": [],
   "source": [
    "# 2. hit GDC file API endpoint to get the details of the capture kit\n",
    "## set GDC API base url and request headers\n",
    "gdc_url = 'https://api.gdc.cancer.gov/files'\n",
    "headers = {'Content-Type': 'application/json'}\n",
    "\n",
    "## API request field, removed \"analysis.metadata.read_groups.read_group_name\"\n",
    "## can add that back for details\n",
    "fields = [\n",
    "    'file_name',\n",
    "    'analysis.metadata.read_groups.target_capture_kit_name',\n",
    "    'analysis.metadata.read_groups.target_capture_kit_target_region'\n",
    "]\n",
    "fields = ','.join(fields)\n",
    "\n",
    "## API request body \n",
    "payload = {\n",
    "        'filters':{\n",
    "            'op':'=',\n",
    "            'content':{\n",
    "                'field':'file_name',\n",
    "                'value':tcga_filenames}},\n",
    "        'format':'json',\n",
    "        'fields':fields,\n",
    "        'size':5000\n",
    "}\n",
    "payload = json.dumps(payload)\n",
    "\n",
    "## hit GDC API file endpoint\n",
    "gdc_response = requests.post(gdc_url, headers=headers, data=payload)"
   ]
  },
  {
   "cell_type": "code",
   "execution_count": 3,
   "metadata": {},
   "outputs": [],
   "source": [
    "# 3. handle GDC API return to find out capture kit url\n",
    "gdc_response = gdc_response.json()\n",
    "capture_kits = []\n",
    "\n",
    "## iterate .data.hits entity manifest\n",
    "## an example of the return body\n",
    "# {\n",
    "#   \"data\": {\n",
    "#     \"hits\": [\n",
    "#       {\n",
    "#         \"analysis\": {\n",
    "#           \"metadata\": {\n",
    "#             \"read_groups\": [\n",
    "#               {\n",
    "#                 \"read_group_name\": \"0.2\",\n",
    "#                 \"target_capture_kit_target_region\": \"...\"\n",
    "#                 \"target_capture_kit_name\": \"...\"\n",
    "#               },\n",
    "#               ...\n",
    "#             ]\n",
    "#           }\n",
    "#         },\n",
    "#         \"file_name\": \"C282.TCGA-12-0773-10A-01W.8_gdc_realn.bam\",\n",
    "#         \"id\": \"b858579f-99c6-4802-afcd-a91dcbb28dc3\",\n",
    "#         \"experimental_strategy\": \"WXS\"\n",
    "#       }\n",
    "#     ],\n",
    "# ...\n",
    "# }\n",
    "for i in gdc_response['data']['hits']:\n",
    "    for j in i['analysis']['metadata']['read_groups']:\n",
    "        capture_kits.append([\n",
    "            i['file_name'], \n",
    "            j['target_capture_kit_name'],\n",
    "            j['target_capture_kit_target_region']\n",
    "        ])\n",
    "    "
   ]
  },
  {
   "cell_type": "code",
   "execution_count": 4,
   "metadata": {},
   "outputs": [
    {
     "data": {
      "text/html": [
       "<div>\n",
       "<style>\n",
       "    .dataframe thead tr:only-child th {\n",
       "        text-align: right;\n",
       "    }\n",
       "\n",
       "    .dataframe thead th {\n",
       "        text-align: left;\n",
       "    }\n",
       "\n",
       "    .dataframe tbody tr th {\n",
       "        vertical-align: top;\n",
       "    }\n",
       "</style>\n",
       "<table border=\"1\" class=\"dataframe\">\n",
       "  <thead>\n",
       "    <tr style=\"text-align: right;\">\n",
       "      <th></th>\n",
       "      <th>filename</th>\n",
       "      <th>kit_name</th>\n",
       "      <th>kit_url</th>\n",
       "    </tr>\n",
       "  </thead>\n",
       "  <tbody>\n",
       "    <tr>\n",
       "      <th>0</th>\n",
       "      <td>C494.TCGA-DU-5855-10A-01D-1705-08.5_gdc_realn.bam</td>\n",
       "      <td>Custom V2 Exome Bait, 48 RXN X 16 tubes</td>\n",
       "      <td>https://bitbucket.org/cghub/cghub-capture-kit-...</td>\n",
       "    </tr>\n",
       "    <tr>\n",
       "      <th>21</th>\n",
       "      <td>C494.TCGA-DU-5847-10A-01D-1705-08.5_gdc_realn.bam</td>\n",
       "      <td>Custom V2 Exome Bait, 48 RXN X 16 tubes</td>\n",
       "      <td>https://bitbucket.org/cghub/cghub-capture-kit-...</td>\n",
       "    </tr>\n",
       "    <tr>\n",
       "      <th>42</th>\n",
       "      <td>C494.TCGA-HT-7681-10C-01D-2396-08.1_gdc_realn.bam</td>\n",
       "      <td>Custom V2 Exome Bait, 48 RXN X 16 tubes</td>\n",
       "      <td>https://bitbucket.org/cghub/cghub-capture-kit-...</td>\n",
       "    </tr>\n",
       "    <tr>\n",
       "      <th>61</th>\n",
       "      <td>C494.TCGA-P5-A737-10A-01D-A329-08.1_gdc_realn.bam</td>\n",
       "      <td>Custom V2 Exome Bait, 48 RXN X 16 tubes</td>\n",
       "      <td>https://bitbucket.org/cghub/cghub-capture-kit-...</td>\n",
       "    </tr>\n",
       "    <tr>\n",
       "      <th>79</th>\n",
       "      <td>C494.TCGA-DB-A4XG-10A-01D-A27N-08.4_gdc_realn.bam</td>\n",
       "      <td>Custom V2 Exome Bait, 48 RXN X 16 tubes</td>\n",
       "      <td>https://bitbucket.org/cghub/cghub-capture-kit-...</td>\n",
       "    </tr>\n",
       "  </tbody>\n",
       "</table>\n",
       "</div>"
      ],
      "text/plain": [
       "                                             filename  \\\n",
       "0   C494.TCGA-DU-5855-10A-01D-1705-08.5_gdc_realn.bam   \n",
       "21  C494.TCGA-DU-5847-10A-01D-1705-08.5_gdc_realn.bam   \n",
       "42  C494.TCGA-HT-7681-10C-01D-2396-08.1_gdc_realn.bam   \n",
       "61  C494.TCGA-P5-A737-10A-01D-A329-08.1_gdc_realn.bam   \n",
       "79  C494.TCGA-DB-A4XG-10A-01D-A27N-08.4_gdc_realn.bam   \n",
       "\n",
       "                                   kit_name  \\\n",
       "0   Custom V2 Exome Bait, 48 RXN X 16 tubes   \n",
       "21  Custom V2 Exome Bait, 48 RXN X 16 tubes   \n",
       "42  Custom V2 Exome Bait, 48 RXN X 16 tubes   \n",
       "61  Custom V2 Exome Bait, 48 RXN X 16 tubes   \n",
       "79  Custom V2 Exome Bait, 48 RXN X 16 tubes   \n",
       "\n",
       "                                              kit_url  \n",
       "0   https://bitbucket.org/cghub/cghub-capture-kit-...  \n",
       "21  https://bitbucket.org/cghub/cghub-capture-kit-...  \n",
       "42  https://bitbucket.org/cghub/cghub-capture-kit-...  \n",
       "61  https://bitbucket.org/cghub/cghub-capture-kit-...  \n",
       "79  https://bitbucket.org/cghub/cghub-capture-kit-...  "
      ]
     },
     "execution_count": 4,
     "metadata": {},
     "output_type": "execute_result"
    }
   ],
   "source": [
    "# 4. load capture kit into data frame, find unique kit download url\n",
    "df = pd.DataFrame(capture_kits).drop_duplicates()\n",
    "df.columns = ['filename','kit_name','kit_url']\n",
    "df.head()"
   ]
  },
  {
   "cell_type": "code",
   "execution_count": 5,
   "metadata": {},
   "outputs": [
    {
     "name": "stdout",
     "output_type": "stream",
     "text": [
      "https://bitbucket.org/cghub/cghub-capture-kit-info/raw/c38c4b9cb500b724de46546fd52f8d532fd9eba9/BI/vendor/Agilent/whole_exome_agilent_1.1_refseq_plus_3_boosters.targetIntervals.bed\n"
     ]
    }
   ],
   "source": [
    "# 5. output the capture kit information\n",
    "pd.to_csv(os.path'tcga-capture-kit.csv', )"
   ]
  },
  {
   "cell_type": "code",
   "execution_count": null,
   "metadata": {},
   "outputs": [],
   "source": []
  }
 ],
 "metadata": {
  "kernelspec": {
   "display_name": "Python 2",
   "language": "python",
   "name": "python2"
  },
  "language_info": {
   "codemirror_mode": {
    "name": "ipython",
    "version": 2
   },
   "file_extension": ".py",
   "mimetype": "text/x-python",
   "name": "python",
   "nbconvert_exporter": "python",
   "pygments_lexer": "ipython2",
   "version": "2.7.16"
  }
 },
 "nbformat": 4,
 "nbformat_minor": 2
}
