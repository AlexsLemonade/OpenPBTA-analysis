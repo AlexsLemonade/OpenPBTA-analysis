{
 "cells": [
  {
   "cell_type": "markdown",
   "metadata": {},
   "source": [
    "bedtools intersect -a WGS.hg38.strelka2.unpadded.bed -b  WGS.hg38.mutect2.vardict.unpadded.bed | bedtools intersect -a - -b WGS.hg38.lancet.unpadded.bed | bedtools intersect -a - -b whole_exome_agilent_designed_120.targetIntervals.Gh38.bed | bedtools intersect -a - -b whole_exome_agilent_plus_tcga_6k.targetIntervals.Gh38.bed | bedtools intersect -a - -b whole_exome_agilent_1.1_refseq_plus_3_boosters.targetIntervals.liftover_Gh38.bed > BED_intersected_with_PBTAWGS_and_TCGA.bed\n"
   ]
  },
  {
   "cell_type": "markdown",
   "metadata": {},
   "source": [
    "gunzip *maf.gz\n"
   ]
  },
  {
   "cell_type": "code",
   "execution_count": 13,
   "metadata": {},
   "outputs": [],
   "source": [
    "import pandas as pd\n",
    "import numpy as np\n",
    "import os "
   ]
  },
  {
   "cell_type": "markdown",
   "metadata": {},
   "source": [
    "This was run both for any file pbta-tcga*maf. and pbta-snv*maf"
   ]
  },
  {
   "cell_type": "code",
   "execution_count": 66,
   "metadata": {},
   "outputs": [
    {
     "name": "stderr",
     "output_type": "stream",
     "text": [
      "/usr/local/lib/python3.7/site-packages/IPython/core/interactiveshell.py:3057: DtypeWarning: Columns (87) have mixed types. Specify dtype option on import or set low_memory=False.\n",
      "  interactivity=interactivity, compiler=compiler, result=result)\n",
      "/usr/local/lib/python3.7/site-packages/IPython/core/interactiveshell.py:3057: DtypeWarning: Columns (76) have mixed types. Specify dtype option on import or set low_memory=False.\n",
      "  interactivity=interactivity, compiler=compiler, result=result)\n"
     ]
    }
   ],
   "source": [
    "for file in os.listdir(\".\"):\n",
    "    if file.startswith(\"pbta-tcga\") and file.endswith(\"maf\"):\n",
    "        out = file.replace(\"maf\", \"bed\")\n",
    "        maf = pd.read_csv(file, sep=\"\\t\",skiprows=1)\n",
    "        BED = maf.loc[maf[\"Start_Position\"]==maf[\"End_Position\"]][[\"Chromosome\",\"Start_Position\", \"End_Position\", \"Variant_Classification\", \"Tumor_Sample_Barcode\"]]\n",
    "        BED[\"Start_Position\"] = BED[\"Start_Position\"] -1\n",
    "        BED.to_csv(out, sep=\"\\t\", header=None, index=False)\n",
    "\n"
   ]
  },
  {
   "cell_type": "markdown",
   "metadata": {},
   "source": [
    "Intersecting both with final BED file - \n",
    "\n",
    "for i in `ls pbta-tcga*bed`; do out=$(echo $i | sed 's/.bed/_BED_intersected_with_PBTAWGS_and_TCGA.bed/g'); bedtools intersect -a $i -b BED_intersected_with_PBTAWGS_and_TCGA.bed -wa > $out;echo $out; done\n",
    "\n",
    "\n",
    "for i in `ls pbta-snv*bed`; do out=$(echo $i | sed 's/.bed/_BED_intersected_with_PBTAWGS_and_TCGA.bed/g'); bedtools intersect -a $i -b BED_intersected_with_PBTAWGS_and_TCGA.bed -wa > $out;echo $out; done\n"
   ]
  },
  {
   "cell_type": "code",
   "execution_count": null,
   "metadata": {},
   "outputs": [],
   "source": [
    "Counting number of SNVs per samples \n",
    "Ran this for both \"pbta-tcga\" and \"pbta-snv\"\n",
    "\n"
   ]
  },
  {
   "cell_type": "code",
   "execution_count": 70,
   "metadata": {},
   "outputs": [
    {
     "name": "stderr",
     "output_type": "stream",
     "text": [
      "/usr/local/lib/python3.7/site-packages/ipykernel_launcher.py:9: FutureWarning: The signature of `Series.to_csv` was aligned to that of `DataFrame.to_csv`, and argument 'header' will change its default value from False to True: please pass an explicit value to suppress this warning.\n",
      "  if __name__ == '__main__':\n"
     ]
    }
   ],
   "source": [
    "# Using groupby and count() to count number of SNVs under each sample\n",
    "\n",
    "for file in os.listdir(\".\"):\n",
    "    if file.startswith(\"pbta-snv\") and file.endswith(\"vep_BED_intersected_with_PBTAWGS_and_TCGA.bed\"):\n",
    "        out = file.replace(\"vep_BED_intersected_with_PBTAWGS_and_TCGA.bed\", \"counting_SNV_numpersamples.txt\")\n",
    "        BED = pd.read_csv(file, sep=\"\\t\", header=None)\n",
    "        BED = BED.groupby(4).count()[0]\n",
    "        #print(BED.head())\n",
    "        BED.to_csv(out, sep=\"\\t\", header=None, index=True)\n",
    "        \n"
   ]
  },
  {
   "cell_type": "code",
   "execution_count": 105,
   "metadata": {},
   "outputs": [],
   "source": [
    "import matplotlib.pyplot as plt\n",
    "\n"
   ]
  },
  {
   "cell_type": "code",
   "execution_count": 101,
   "metadata": {},
   "outputs": [],
   "source": [
    "pbta_lancet = pd.read_csv(\"pbta-snv-lancet.counting_SNV_numpersamples.txt\",  header=None, sep=\"\\t\")\n",
    "tcga_lancet = pd.read_csv(\"pbta-tcga-snv-lancet.counting_SNV_numpersamples.txt\", header=None, sep=\"\\t\")\n",
    "\n",
    "pbta_mutect2 = pd.read_csv(\"pbta-snv-mutect2.counting_SNV_numpersamples.txt\",  header=None, sep=\"\\t\")\n",
    "tcga_mutect2 = pd.read_csv(\"pbta-tcga-snv-mutect2.counting_SNV_numpersamples.txt\", header=None, sep=\"\\t\")\n",
    "\n",
    "pbta_strelka2 = pd.read_csv(\"pbta-snv-strelka2.counting_SNV_numpersamples.txt\",  header=None, sep=\"\\t\")\n",
    "tcga_strelka2 = pd.read_csv(\"pbta-tcga-snv-strelka2.counting_SNV_numpersamples.txt\", header=None, sep=\"\\t\")\n"
   ]
  },
  {
   "cell_type": "code",
   "execution_count": 97,
   "metadata": {
    "scrolled": true
   },
   "outputs": [
    {
     "data": {
      "image/png": "[encoded data removed]",
      "text/plain": [
       "<Figure size 432x288 with 1 Axes>"
      ]
     },
     "metadata": {
      "needs_background": "light"
     },
     "output_type": "display_data"
    }
   ],
   "source": [
    "plt.hist(pbta_lancet[1], bins=[0, 10, 20, 30, 40, 50, 100, 150, 200, 250, 300])\n",
    "plt.savefig('pbta_lancet_hist.png')\n",
    "#plt.xlim(0,1000)\n",
    "\n",
    "#list(pbta_lancet[1])"
   ]
  },
  {
   "cell_type": "code",
   "execution_count": 98,
   "metadata": {
    "scrolled": false
   },
   "outputs": [
    {
     "data": {
      "image/png": "[encoded data removed]",
      "text/plain": [
       "<Figure size 432x288 with 1 Axes>"
      ]
     },
     "metadata": {
      "needs_background": "light"
     },
     "output_type": "display_data"
    }
   ],
   "source": [
    "plt.hist(tcga_lancet[1], bins=[0, 10, 20, 30, 40, 50, 100, 150, 200, 250, 300])\n",
    "plt.savefig('tcga_lancet_hist.png')"
   ]
  },
  {
   "cell_type": "code",
   "execution_count": 99,
   "metadata": {},
   "outputs": [
    {
     "data": {
      "image/png": "[encoded data removed]",
      "text/plain": [
       "<Figure size 432x288 with 1 Axes>"
      ]
     },
     "metadata": {
      "needs_background": "light"
     },
     "output_type": "display_data"
    }
   ],
   "source": [
    "plt.hist(pbta_mutect2[1], bins=[0, 10, 20, 30, 40, 50, 100, 150, 200, 250, 300])\n",
    "plt.savefig('pbta_mutect2_hist.png')\n"
   ]
  },
  {
   "cell_type": "code",
   "execution_count": 100,
   "metadata": {},
   "outputs": [
    {
     "data": {
      "image/png": "[encoded data removed]",
      "text/plain": [
       "<Figure size 432x288 with 1 Axes>"
      ]
     },
     "metadata": {
      "needs_background": "light"
     },
     "output_type": "display_data"
    }
   ],
   "source": [
    "plt.hist(tcga_mutect2[1], bins=[0, 10, 20, 30, 40, 50, 100, 150, 200, 250, 300])\n",
    "plt.savefig('tcga_mutect2_hist.png')\n"
   ]
  },
  {
   "cell_type": "code",
   "execution_count": 103,
   "metadata": {},
   "outputs": [
    {
     "data": {
      "image/png": "[encoded data removed]",
      "text/plain": [
       "<Figure size 432x288 with 1 Axes>"
      ]
     },
     "metadata": {
      "needs_background": "light"
     },
     "output_type": "display_data"
    }
   ],
   "source": [
    "plt.hist(pbta_strelka2[1], bins=[0, 10, 20, 30, 40, 50, 100, 150, 200, 250, 300])\n",
    "plt.savefig('pbta_strelka2_hist.png')\n",
    "\n",
    "\n"
   ]
  },
  {
   "cell_type": "code",
   "execution_count": 104,
   "metadata": {},
   "outputs": [
    {
     "data": {
      "image/png": "[encoded data removed]",
      "text/plain": [
       "<Figure size 432x288 with 1 Axes>"
      ]
     },
     "metadata": {
      "needs_background": "light"
     },
     "output_type": "display_data"
    }
   ],
   "source": [
    "\n",
    "plt.hist(tcga_strelka2[1], bins=[0, 10, 20, 30, 40, 50, 100, 150, 200, 250, 300])\n",
    "plt.savefig('tcga_strelka2_hist.png')"
   ]
  },
  {
   "cell_type": "code",
   "execution_count": null,
   "metadata": {},
   "outputs": [],
   "source": []
  }
 ],
 "metadata": {
  "kernelspec": {
   "display_name": "Python 3",
   "language": "python",
   "name": "python3"
  },
  "language_info": {
   "codemirror_mode": {
    "name": "ipython",
    "version": 3
   },
   "file_extension": ".py",
   "mimetype": "text/x-python",
   "name": "python",
   "nbconvert_exporter": "python",
   "pygments_lexer": "ipython3",
   "version": "3.7.3"
  }
 },
 "nbformat": 4,
 "nbformat_minor": 2
}
