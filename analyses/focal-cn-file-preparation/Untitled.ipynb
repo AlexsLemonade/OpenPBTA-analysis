{
 "cells": [
  {
   "cell_type": "code",
   "execution_count": 1,
   "metadata": {},
   "outputs": [],
   "source": [
    "import pandas as pd"
   ]
  },
  {
   "cell_type": "markdown",
   "metadata": {},
   "source": [
    "##Input "
   ]
  },
  {
   "cell_type": "code",
   "execution_count": 15,
   "metadata": {},
   "outputs": [
    {
     "name": "stderr",
     "output_type": "stream",
     "text": [
      "/Users/gaonkark/anaconda3/lib/python3.7/site-packages/IPython/core/interactiveshell.py:3020: DtypeWarning: Columns (7) have mixed types.Specify dtype option on import or set low_memory=False.\n",
      "  interactivity=interactivity, compiler=compiler, result=result)\n"
     ]
    }
   ],
   "source": [
    "auto_seg= pd.read_csv(\"results/cnvkit_annotated_cn_autosomes.tsv.gz\",sep=\"\\t\")\n",
    "xy_seg=pd.read_csv(\"results/cnvkit_annotated_cn_x_and_y.tsv.gz\",sep=\"\\t\")"
   ]
  },
  {
   "cell_type": "code",
   "execution_count": 17,
   "metadata": {},
   "outputs": [
    {
     "name": "stderr",
     "output_type": "stream",
     "text": [
      "/Users/gaonkark/anaconda3/lib/python3.7/site-packages/IPython/core/interactiveshell.py:3020: DtypeWarning: Columns (2,14,17,20,24,25,26,27,28,30,31,35,36,37,39,43,44) have mixed types.Specify dtype option on import or set low_memory=False.\n",
      "  interactivity=interactivity, compiler=compiler, result=result)\n"
     ]
    },
    {
     "data": {
      "text/html": [
       "<div>\n",
       "<style scoped>\n",
       "    .dataframe tbody tr th:only-of-type {\n",
       "        vertical-align: middle;\n",
       "    }\n",
       "\n",
       "    .dataframe tbody tr th {\n",
       "        vertical-align: top;\n",
       "    }\n",
       "\n",
       "    .dataframe thead th {\n",
       "        text-align: right;\n",
       "    }\n",
       "</style>\n",
       "<table border=\"1\" class=\"dataframe\">\n",
       "  <thead>\n",
       "    <tr style=\"text-align: right;\">\n",
       "      <th></th>\n",
       "      <th>Kids_First_Biospecimen_ID</th>\n",
       "      <th>sample_id</th>\n",
       "      <th>aliquot_id</th>\n",
       "      <th>Kids_First_Participant_ID</th>\n",
       "      <th>experimental_strategy</th>\n",
       "      <th>sample_type</th>\n",
       "      <th>composition</th>\n",
       "      <th>tumor_descriptor</th>\n",
       "      <th>primary_site</th>\n",
       "      <th>reported_gender</th>\n",
       "      <th>...</th>\n",
       "      <th>CNS_region</th>\n",
       "      <th>molecular_subtype</th>\n",
       "      <th>integrated_diagnosis</th>\n",
       "      <th>Notes</th>\n",
       "      <th>harmonized_diagnosis</th>\n",
       "      <th>broad_histology</th>\n",
       "      <th>short_histology</th>\n",
       "      <th>cancer_group</th>\n",
       "      <th>gtex_group</th>\n",
       "      <th>gtex_subgroup</th>\n",
       "    </tr>\n",
       "  </thead>\n",
       "  <tbody>\n",
       "    <tr>\n",
       "      <th>170</th>\n",
       "      <td>BS_1RTE2KEX</td>\n",
       "      <td>A14709</td>\n",
       "      <td>A14711</td>\n",
       "      <td>PT_1AAYYGGY</td>\n",
       "      <td>WXS</td>\n",
       "      <td>Tumor</td>\n",
       "      <td>Solid Tissue</td>\n",
       "      <td>Initial CNS Tumor</td>\n",
       "      <td>Pons/Brainstem</td>\n",
       "      <td>Not Reported</td>\n",
       "      <td>...</td>\n",
       "      <td>Midline</td>\n",
       "      <td>DMG, H3 K28, TP53 activated</td>\n",
       "      <td>Diffuse midline glioma, H3 K28-mutant</td>\n",
       "      <td>Updated via OpenPBTA subtyping</td>\n",
       "      <td>Diffuse midline glioma, H3 K28-mutant</td>\n",
       "      <td>Diffuse astrocytic and oligodendroglial tumor</td>\n",
       "      <td>Diffuse astrocytic and oligodendroglial tumor</td>\n",
       "      <td>Diffuse midline glioma</td>\n",
       "      <td>NaN</td>\n",
       "      <td>NaN</td>\n",
       "    </tr>\n",
       "    <tr>\n",
       "      <th>235</th>\n",
       "      <td>BS_2HDEZFTW</td>\n",
       "      <td>A19649</td>\n",
       "      <td>A19681</td>\n",
       "      <td>PT_G16VK7FR</td>\n",
       "      <td>WXS</td>\n",
       "      <td>Tumor</td>\n",
       "      <td>Solid Tissue</td>\n",
       "      <td>Initial CNS Tumor</td>\n",
       "      <td>Pons/Brainstem</td>\n",
       "      <td>Not Reported</td>\n",
       "      <td>...</td>\n",
       "      <td>Midline</td>\n",
       "      <td>DMG, H3 K28, TP53 loss</td>\n",
       "      <td>Diffuse midline glioma, H3 K28-mutant</td>\n",
       "      <td>Updated via OpenPBTA subtyping</td>\n",
       "      <td>Diffuse midline glioma, H3 K28-mutant</td>\n",
       "      <td>Diffuse astrocytic and oligodendroglial tumor</td>\n",
       "      <td>Diffuse astrocytic and oligodendroglial tumor</td>\n",
       "      <td>Diffuse midline glioma</td>\n",
       "      <td>NaN</td>\n",
       "      <td>NaN</td>\n",
       "    </tr>\n",
       "    <tr>\n",
       "      <th>243</th>\n",
       "      <td>BS_2KMB51YF</td>\n",
       "      <td>A15170</td>\n",
       "      <td>A15181</td>\n",
       "      <td>PT_NWYSD53S</td>\n",
       "      <td>WXS</td>\n",
       "      <td>Tumor</td>\n",
       "      <td>Solid Tissue</td>\n",
       "      <td>Initial CNS Tumor</td>\n",
       "      <td>Pons/Brainstem</td>\n",
       "      <td>Not Reported</td>\n",
       "      <td>...</td>\n",
       "      <td>Midline</td>\n",
       "      <td>DMG, H3 K28</td>\n",
       "      <td>Diffuse midline glioma, H3 K28-mutant</td>\n",
       "      <td>Updated via OpenPBTA subtyping</td>\n",
       "      <td>Diffuse midline glioma, H3 K28-mutant</td>\n",
       "      <td>Diffuse astrocytic and oligodendroglial tumor</td>\n",
       "      <td>Diffuse astrocytic and oligodendroglial tumor</td>\n",
       "      <td>Diffuse midline glioma</td>\n",
       "      <td>NaN</td>\n",
       "      <td>NaN</td>\n",
       "    </tr>\n",
       "    <tr>\n",
       "      <th>277</th>\n",
       "      <td>BS_328C4BW5</td>\n",
       "      <td>A17997</td>\n",
       "      <td>A18002</td>\n",
       "      <td>PT_EN2RN5Y1</td>\n",
       "      <td>WXS</td>\n",
       "      <td>Tumor</td>\n",
       "      <td>Solid Tissue</td>\n",
       "      <td>Initial CNS Tumor</td>\n",
       "      <td>Pons/Brainstem</td>\n",
       "      <td>Not Reported</td>\n",
       "      <td>...</td>\n",
       "      <td>Midline</td>\n",
       "      <td>DMG, H3 K28</td>\n",
       "      <td>Diffuse midline glioma, H3 K28-mutant</td>\n",
       "      <td>Updated via OpenPBTA subtyping</td>\n",
       "      <td>Diffuse midline glioma, H3 K28-mutant</td>\n",
       "      <td>Diffuse astrocytic and oligodendroglial tumor</td>\n",
       "      <td>Diffuse astrocytic and oligodendroglial tumor</td>\n",
       "      <td>Diffuse midline glioma</td>\n",
       "      <td>NaN</td>\n",
       "      <td>NaN</td>\n",
       "    </tr>\n",
       "    <tr>\n",
       "      <th>356</th>\n",
       "      <td>BS_402W79TS</td>\n",
       "      <td>A09689</td>\n",
       "      <td>A09825</td>\n",
       "      <td>PT_KTRJ8TFY</td>\n",
       "      <td>WXS</td>\n",
       "      <td>Tumor</td>\n",
       "      <td>Solid Tissue</td>\n",
       "      <td>Initial CNS Tumor</td>\n",
       "      <td>Pons/Brainstem</td>\n",
       "      <td>Not Reported</td>\n",
       "      <td>...</td>\n",
       "      <td>Midline</td>\n",
       "      <td>DMG, H3 K28, TP53 loss</td>\n",
       "      <td>Diffuse midline glioma, H3 K28-mutant</td>\n",
       "      <td>Updated via OpenPBTA subtyping</td>\n",
       "      <td>Diffuse midline glioma, H3 K28-mutant</td>\n",
       "      <td>Diffuse astrocytic and oligodendroglial tumor</td>\n",
       "      <td>Diffuse astrocytic and oligodendroglial tumor</td>\n",
       "      <td>Diffuse midline glioma</td>\n",
       "      <td>NaN</td>\n",
       "      <td>NaN</td>\n",
       "    </tr>\n",
       "  </tbody>\n",
       "</table>\n",
       "<p>5 rows × 45 columns</p>\n",
       "</div>"
      ],
      "text/plain": [
       "    Kids_First_Biospecimen_ID sample_id aliquot_id Kids_First_Participant_ID  \\\n",
       "170               BS_1RTE2KEX    A14709     A14711               PT_1AAYYGGY   \n",
       "235               BS_2HDEZFTW    A19649     A19681               PT_G16VK7FR   \n",
       "243               BS_2KMB51YF    A15170     A15181               PT_NWYSD53S   \n",
       "277               BS_328C4BW5    A17997     A18002               PT_EN2RN5Y1   \n",
       "356               BS_402W79TS    A09689     A09825               PT_KTRJ8TFY   \n",
       "\n",
       "    experimental_strategy sample_type   composition   tumor_descriptor  \\\n",
       "170                   WXS       Tumor  Solid Tissue  Initial CNS Tumor   \n",
       "235                   WXS       Tumor  Solid Tissue  Initial CNS Tumor   \n",
       "243                   WXS       Tumor  Solid Tissue  Initial CNS Tumor   \n",
       "277                   WXS       Tumor  Solid Tissue  Initial CNS Tumor   \n",
       "356                   WXS       Tumor  Solid Tissue  Initial CNS Tumor   \n",
       "\n",
       "       primary_site reported_gender  ... CNS_region  \\\n",
       "170  Pons/Brainstem    Not Reported  ...    Midline   \n",
       "235  Pons/Brainstem    Not Reported  ...    Midline   \n",
       "243  Pons/Brainstem    Not Reported  ...    Midline   \n",
       "277  Pons/Brainstem    Not Reported  ...    Midline   \n",
       "356  Pons/Brainstem    Not Reported  ...    Midline   \n",
       "\n",
       "               molecular_subtype                   integrated_diagnosis  \\\n",
       "170  DMG, H3 K28, TP53 activated  Diffuse midline glioma, H3 K28-mutant   \n",
       "235       DMG, H3 K28, TP53 loss  Diffuse midline glioma, H3 K28-mutant   \n",
       "243                  DMG, H3 K28  Diffuse midline glioma, H3 K28-mutant   \n",
       "277                  DMG, H3 K28  Diffuse midline glioma, H3 K28-mutant   \n",
       "356       DMG, H3 K28, TP53 loss  Diffuse midline glioma, H3 K28-mutant   \n",
       "\n",
       "                              Notes                   harmonized_diagnosis  \\\n",
       "170  Updated via OpenPBTA subtyping  Diffuse midline glioma, H3 K28-mutant   \n",
       "235  Updated via OpenPBTA subtyping  Diffuse midline glioma, H3 K28-mutant   \n",
       "243  Updated via OpenPBTA subtyping  Diffuse midline glioma, H3 K28-mutant   \n",
       "277  Updated via OpenPBTA subtyping  Diffuse midline glioma, H3 K28-mutant   \n",
       "356  Updated via OpenPBTA subtyping  Diffuse midline glioma, H3 K28-mutant   \n",
       "\n",
       "                                   broad_histology  \\\n",
       "170  Diffuse astrocytic and oligodendroglial tumor   \n",
       "235  Diffuse astrocytic and oligodendroglial tumor   \n",
       "243  Diffuse astrocytic and oligodendroglial tumor   \n",
       "277  Diffuse astrocytic and oligodendroglial tumor   \n",
       "356  Diffuse astrocytic and oligodendroglial tumor   \n",
       "\n",
       "                                   short_histology            cancer_group  \\\n",
       "170  Diffuse astrocytic and oligodendroglial tumor  Diffuse midline glioma   \n",
       "235  Diffuse astrocytic and oligodendroglial tumor  Diffuse midline glioma   \n",
       "243  Diffuse astrocytic and oligodendroglial tumor  Diffuse midline glioma   \n",
       "277  Diffuse astrocytic and oligodendroglial tumor  Diffuse midline glioma   \n",
       "356  Diffuse astrocytic and oligodendroglial tumor  Diffuse midline glioma   \n",
       "\n",
       "     gtex_group gtex_subgroup  \n",
       "170         NaN           NaN  \n",
       "235         NaN           NaN  \n",
       "243         NaN           NaN  \n",
       "277         NaN           NaN  \n",
       "356         NaN           NaN  \n",
       "\n",
       "[5 rows x 45 columns]"
      ]
     },
     "execution_count": 17,
     "metadata": {},
     "output_type": "execute_result"
    }
   ],
   "source": [
    "histology=pd.read_csv(\"../../data/histologies.tsv\",sep=\"\\t\")\n",
    "histology_wxs= histology.query('experimental_strategy != [\"WGS\",\"RNA-Seq\"] & sample_type != \"Normal\"')\n",
    "histology_wxs.head()"
   ]
  },
  {
   "cell_type": "code",
   "execution_count": 19,
   "metadata": {},
   "outputs": [
    {
     "data": {
      "text/html": [
       "<div>\n",
       "<style scoped>\n",
       "    .dataframe tbody tr th:only-of-type {\n",
       "        vertical-align: middle;\n",
       "    }\n",
       "\n",
       "    .dataframe tbody tr th {\n",
       "        vertical-align: top;\n",
       "    }\n",
       "\n",
       "    .dataframe thead th {\n",
       "        text-align: right;\n",
       "    }\n",
       "</style>\n",
       "<table border=\"1\" class=\"dataframe\">\n",
       "  <thead>\n",
       "    <tr style=\"text-align: right;\">\n",
       "      <th></th>\n",
       "      <th>biospecimen_id</th>\n",
       "      <th>status</th>\n",
       "      <th>copy_number</th>\n",
       "      <th>ploidy</th>\n",
       "      <th>ensembl</th>\n",
       "      <th>gene_symbol</th>\n",
       "      <th>cytoband</th>\n",
       "    </tr>\n",
       "  </thead>\n",
       "  <tbody>\n",
       "  </tbody>\n",
       "</table>\n",
       "</div>"
      ],
      "text/plain": [
       "Empty DataFrame\n",
       "Columns: [biospecimen_id, status, copy_number, ploidy, ensembl, gene_symbol, cytoband]\n",
       "Index: []"
      ]
     },
     "execution_count": 19,
     "metadata": {},
     "output_type": "execute_result"
    }
   ],
   "source": [
    "n = auto_seg.biospecimen_id.isin(histology_wxs.Kids_First_Biospecimen_ID)\n",
    "auto_seg = auto_seg[n]\n",
    "auto_seg.head()"
   ]
  },
  {
   "cell_type": "code",
   "execution_count": 21,
   "metadata": {},
   "outputs": [
    {
     "data": {
      "text/html": [
       "<div>\n",
       "<style scoped>\n",
       "    .dataframe tbody tr th:only-of-type {\n",
       "        vertical-align: middle;\n",
       "    }\n",
       "\n",
       "    .dataframe tbody tr th {\n",
       "        vertical-align: top;\n",
       "    }\n",
       "\n",
       "    .dataframe thead th {\n",
       "        text-align: right;\n",
       "    }\n",
       "</style>\n",
       "<table border=\"1\" class=\"dataframe\">\n",
       "  <thead>\n",
       "    <tr style=\"text-align: right;\">\n",
       "      <th></th>\n",
       "      <th>biospecimen_id</th>\n",
       "      <th>status</th>\n",
       "      <th>copy_number</th>\n",
       "      <th>ploidy</th>\n",
       "      <th>ensembl</th>\n",
       "      <th>gene_symbol</th>\n",
       "      <th>cytoband</th>\n",
       "      <th>germline_sex_estimate</th>\n",
       "    </tr>\n",
       "  </thead>\n",
       "  <tbody>\n",
       "  </tbody>\n",
       "</table>\n",
       "</div>"
      ],
      "text/plain": [
       "Empty DataFrame\n",
       "Columns: [biospecimen_id, status, copy_number, ploidy, ensembl, gene_symbol, cytoband, germline_sex_estimate]\n",
       "Index: []"
      ]
     },
     "execution_count": 21,
     "metadata": {},
     "output_type": "execute_result"
    }
   ],
   "source": [
    "n = xy_seg.biospecimen_id.isin(histology_wxs.Kids_First_Biospecimen_ID)\n",
    "xy_seg = xy_seg[n]\n",
    "xy_seg.head()"
   ]
  },
  {
   "cell_type": "markdown",
   "metadata": {},
   "source": [
    "###What are the unique values in status column"
   ]
  },
  {
   "cell_type": "code",
   "execution_count": null,
   "metadata": {},
   "outputs": [],
   "source": [
    "auto_seg.status.unique()"
   ]
  },
  {
   "cell_type": "code",
   "execution_count": null,
   "metadata": {},
   "outputs": [],
   "source": [
    "xy_seg.status.unique()"
   ]
  },
  {
   "cell_type": "markdown",
   "metadata": {},
   "source": [
    "###Format to pedcbio values"
   ]
  },
  {
   "cell_type": "code",
   "execution_count": null,
   "metadata": {},
   "outputs": [],
   "source": [
    "auto_seg['pedcbio_status'] = auto_seg['status'].replace(['deep deletion','loss','neutral','gain','amplification'], [-2,-1,0,1,2])\n",
    "auto_seg.head()"
   ]
  },
  {
   "cell_type": "code",
   "execution_count": null,
   "metadata": {},
   "outputs": [],
   "source": [
    "xy_seg['pedcbio_status'] = xy_seg['status'].replace(['deep deletion','loss','nuetral','gain'], [-2,-1,0,1])\n",
    "xy_seg.head()"
   ]
  },
  {
   "cell_type": "markdown",
   "metadata": {},
   "source": [
    "##Merge and save"
   ]
  },
  {
   "cell_type": "code",
   "execution_count": null,
   "metadata": {},
   "outputs": [],
   "source": [
    "# remove germline_sex_estimate from xy seg file\n",
    "xy_seg=xy_seg.drop(['germline_sex_estimate'],axis =1)\n",
    "# merge\n",
    "cnvkit_seg_concat = pd.concat([auto_seg, xy_seg], axis=0)"
   ]
  },
  {
   "cell_type": "code",
   "execution_count": null,
   "metadata": {},
   "outputs": [],
   "source": [
    "cnvkit_seg_concat.to_csv(\"results/cnvkit_annotated_cn_autosomes_xy.tsv.gz\",index=False, sep=\"\\t\")"
   ]
  }
 ],
 "metadata": {
  "kernelspec": {
   "display_name": "Python 3",
   "language": "python",
   "name": "python3"
  },
  "language_info": {
   "codemirror_mode": {
    "name": "ipython",
    "version": 3
   },
   "file_extension": ".py",
   "mimetype": "text/x-python",
   "name": "python",
   "nbconvert_exporter": "python",
   "pygments_lexer": "ipython3",
   "version": "3.7.1"
  }
 },
 "nbformat": 4,
 "nbformat_minor": 2
}
