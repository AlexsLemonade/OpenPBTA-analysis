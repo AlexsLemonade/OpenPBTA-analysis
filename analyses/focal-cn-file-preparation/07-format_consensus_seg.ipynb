{
 "cells": [
  {
   "cell_type": "code",
   "execution_count": 13,
   "metadata": {},
   "outputs": [],
   "source": [
    "import pandas as pd"
   ]
  },
  {
   "cell_type": "markdown",
   "metadata": {},
   "source": [
    "## Inputs "
   ]
  },
  {
   "cell_type": "code",
   "execution_count": 14,
   "metadata": {},
   "outputs": [],
   "source": [
    "auto_seg= pd.read_csv(\"results/consensus_seg_annotated_cn_autosomes.tsv.gz\",sep=\"\\t\")\n",
    "xy_seg=pd.read_csv(\"results/consensus_seg_annotated_cn_x_and_y.tsv.gz\",sep=\"\\t\")"
   ]
  },
  {
   "cell_type": "code",
   "execution_count": 15,
   "metadata": {},
   "outputs": [
    {
     "data": {
      "text/html": [
       "<div>\n",
       "<style scoped>\n",
       "    .dataframe tbody tr th:only-of-type {\n",
       "        vertical-align: middle;\n",
       "    }\n",
       "\n",
       "    .dataframe tbody tr th {\n",
       "        vertical-align: top;\n",
       "    }\n",
       "\n",
       "    .dataframe thead th {\n",
       "        text-align: right;\n",
       "    }\n",
       "</style>\n",
       "<table border=\"1\" class=\"dataframe\">\n",
       "  <thead>\n",
       "    <tr style=\"text-align: right;\">\n",
       "      <th></th>\n",
       "      <th>biospecimen_id</th>\n",
       "      <th>status</th>\n",
       "      <th>copy_number</th>\n",
       "      <th>ploidy</th>\n",
       "      <th>ensembl</th>\n",
       "      <th>gene_symbol</th>\n",
       "      <th>cytoband</th>\n",
       "    </tr>\n",
       "  </thead>\n",
       "  <tbody>\n",
       "    <tr>\n",
       "      <th>0</th>\n",
       "      <td>BS_007JTNB8</td>\n",
       "      <td>loss</td>\n",
       "      <td>1</td>\n",
       "      <td>2.0</td>\n",
       "      <td>ENSG00000185904</td>\n",
       "      <td>LINC00839</td>\n",
       "      <td>10q11.21</td>\n",
       "    </tr>\n",
       "    <tr>\n",
       "      <th>1</th>\n",
       "      <td>BS_007JTNB8</td>\n",
       "      <td>loss</td>\n",
       "      <td>1</td>\n",
       "      <td>2.0</td>\n",
       "      <td>ENSG00000165733</td>\n",
       "      <td>BMS1</td>\n",
       "      <td>10q11.21</td>\n",
       "    </tr>\n",
       "    <tr>\n",
       "      <th>2</th>\n",
       "      <td>BS_007JTNB8</td>\n",
       "      <td>loss</td>\n",
       "      <td>1</td>\n",
       "      <td>2.0</td>\n",
       "      <td>ENSG00000234944</td>\n",
       "      <td>LINC02623</td>\n",
       "      <td>10q11.21</td>\n",
       "    </tr>\n",
       "    <tr>\n",
       "      <th>3</th>\n",
       "      <td>BS_007JTNB8</td>\n",
       "      <td>loss</td>\n",
       "      <td>1</td>\n",
       "      <td>2.0</td>\n",
       "      <td>ENSG00000263795</td>\n",
       "      <td>MIR5100</td>\n",
       "      <td>10q11.21</td>\n",
       "    </tr>\n",
       "    <tr>\n",
       "      <th>4</th>\n",
       "      <td>BS_007JTNB8</td>\n",
       "      <td>loss</td>\n",
       "      <td>1</td>\n",
       "      <td>2.0</td>\n",
       "      <td>ENSG00000165731</td>\n",
       "      <td>RET</td>\n",
       "      <td>10q11.21</td>\n",
       "    </tr>\n",
       "  </tbody>\n",
       "</table>\n",
       "</div>"
      ],
      "text/plain": [
       "  biospecimen_id status  copy_number  ploidy          ensembl gene_symbol  \\\n",
       "0    BS_007JTNB8   loss            1     2.0  ENSG00000185904   LINC00839   \n",
       "1    BS_007JTNB8   loss            1     2.0  ENSG00000165733        BMS1   \n",
       "2    BS_007JTNB8   loss            1     2.0  ENSG00000234944   LINC02623   \n",
       "3    BS_007JTNB8   loss            1     2.0  ENSG00000263795     MIR5100   \n",
       "4    BS_007JTNB8   loss            1     2.0  ENSG00000165731         RET   \n",
       "\n",
       "   cytoband  \n",
       "0  10q11.21  \n",
       "1  10q11.21  \n",
       "2  10q11.21  \n",
       "3  10q11.21  \n",
       "4  10q11.21  "
      ]
     },
     "execution_count": 15,
     "metadata": {},
     "output_type": "execute_result"
    }
   ],
   "source": [
    "auto_seg.head()"
   ]
  },
  {
   "cell_type": "code",
   "execution_count": 16,
   "metadata": {},
   "outputs": [
    {
     "data": {
      "text/html": [
       "<div>\n",
       "<style scoped>\n",
       "    .dataframe tbody tr th:only-of-type {\n",
       "        vertical-align: middle;\n",
       "    }\n",
       "\n",
       "    .dataframe tbody tr th {\n",
       "        vertical-align: top;\n",
       "    }\n",
       "\n",
       "    .dataframe thead th {\n",
       "        text-align: right;\n",
       "    }\n",
       "</style>\n",
       "<table border=\"1\" class=\"dataframe\">\n",
       "  <thead>\n",
       "    <tr style=\"text-align: right;\">\n",
       "      <th></th>\n",
       "      <th>biospecimen_id</th>\n",
       "      <th>status</th>\n",
       "      <th>copy_number</th>\n",
       "      <th>ploidy</th>\n",
       "      <th>ensembl</th>\n",
       "      <th>gene_symbol</th>\n",
       "      <th>cytoband</th>\n",
       "      <th>germline_sex_estimate</th>\n",
       "    </tr>\n",
       "  </thead>\n",
       "  <tbody>\n",
       "    <tr>\n",
       "      <th>0</th>\n",
       "      <td>BS_00TRPEQX</td>\n",
       "      <td>loss</td>\n",
       "      <td>2</td>\n",
       "      <td>3.0</td>\n",
       "      <td>ENSG00000181704</td>\n",
       "      <td>YIPF6</td>\n",
       "      <td>Xq12-q13.1</td>\n",
       "      <td>Female</td>\n",
       "    </tr>\n",
       "    <tr>\n",
       "      <th>1</th>\n",
       "      <td>BS_00TRPEQX</td>\n",
       "      <td>loss</td>\n",
       "      <td>2</td>\n",
       "      <td>3.0</td>\n",
       "      <td>ENSG00000181704</td>\n",
       "      <td>YIPF6</td>\n",
       "      <td>Xq12-q13.1</td>\n",
       "      <td>Female</td>\n",
       "    </tr>\n",
       "    <tr>\n",
       "      <th>2</th>\n",
       "      <td>BS_00TRPEQX</td>\n",
       "      <td>loss</td>\n",
       "      <td>2</td>\n",
       "      <td>3.0</td>\n",
       "      <td>ENSG00000130052</td>\n",
       "      <td>STARD8</td>\n",
       "      <td>Xq13.1</td>\n",
       "      <td>Female</td>\n",
       "    </tr>\n",
       "    <tr>\n",
       "      <th>3</th>\n",
       "      <td>BS_00TRPEQX</td>\n",
       "      <td>loss</td>\n",
       "      <td>2</td>\n",
       "      <td>3.0</td>\n",
       "      <td>ENSG00000130052</td>\n",
       "      <td>STARD8</td>\n",
       "      <td>Xq13.1</td>\n",
       "      <td>Female</td>\n",
       "    </tr>\n",
       "    <tr>\n",
       "      <th>4</th>\n",
       "      <td>BS_00TRPEQX</td>\n",
       "      <td>loss</td>\n",
       "      <td>2</td>\n",
       "      <td>3.0</td>\n",
       "      <td>ENSG00000090776</td>\n",
       "      <td>EFNB1</td>\n",
       "      <td>Xq13.1</td>\n",
       "      <td>Female</td>\n",
       "    </tr>\n",
       "  </tbody>\n",
       "</table>\n",
       "</div>"
      ],
      "text/plain": [
       "  biospecimen_id status  copy_number  ploidy          ensembl gene_symbol  \\\n",
       "0    BS_00TRPEQX   loss            2     3.0  ENSG00000181704       YIPF6   \n",
       "1    BS_00TRPEQX   loss            2     3.0  ENSG00000181704       YIPF6   \n",
       "2    BS_00TRPEQX   loss            2     3.0  ENSG00000130052      STARD8   \n",
       "3    BS_00TRPEQX   loss            2     3.0  ENSG00000130052      STARD8   \n",
       "4    BS_00TRPEQX   loss            2     3.0  ENSG00000090776       EFNB1   \n",
       "\n",
       "     cytoband germline_sex_estimate  \n",
       "0  Xq12-q13.1                Female  \n",
       "1  Xq12-q13.1                Female  \n",
       "2      Xq13.1                Female  \n",
       "3      Xq13.1                Female  \n",
       "4      Xq13.1                Female  "
      ]
     },
     "execution_count": 16,
     "metadata": {},
     "output_type": "execute_result"
    }
   ],
   "source": [
    "xy_seg.head()"
   ]
  },
  {
   "cell_type": "markdown",
   "metadata": {},
   "source": [
    "### What are the unique values in `status` column"
   ]
  },
  {
   "cell_type": "code",
   "execution_count": 17,
   "metadata": {},
   "outputs": [
    {
     "data": {
      "text/plain": [
       "array(['loss', 'gain', 'amplification', nan, 'neutral', 'deep deletion'],\n",
       "      dtype=object)"
      ]
     },
     "execution_count": 17,
     "metadata": {},
     "output_type": "execute_result"
    }
   ],
   "source": [
    "auto_seg.status.unique()"
   ]
  },
  {
   "cell_type": "code",
   "execution_count": 18,
   "metadata": {},
   "outputs": [
    {
     "data": {
      "text/plain": [
       "array(['loss', 'deep deletion', 'gain', 'neutral', nan], dtype=object)"
      ]
     },
     "execution_count": 18,
     "metadata": {},
     "output_type": "execute_result"
    }
   ],
   "source": [
    "xy_seg.status.unique()"
   ]
  },
  {
   "cell_type": "markdown",
   "metadata": {},
   "source": [
    "### Format to pedcbio values"
   ]
  },
  {
   "cell_type": "code",
   "execution_count": 19,
   "metadata": {},
   "outputs": [
    {
     "data": {
      "text/html": [
       "<div>\n",
       "<style scoped>\n",
       "    .dataframe tbody tr th:only-of-type {\n",
       "        vertical-align: middle;\n",
       "    }\n",
       "\n",
       "    .dataframe tbody tr th {\n",
       "        vertical-align: top;\n",
       "    }\n",
       "\n",
       "    .dataframe thead th {\n",
       "        text-align: right;\n",
       "    }\n",
       "</style>\n",
       "<table border=\"1\" class=\"dataframe\">\n",
       "  <thead>\n",
       "    <tr style=\"text-align: right;\">\n",
       "      <th></th>\n",
       "      <th>biospecimen_id</th>\n",
       "      <th>status</th>\n",
       "      <th>copy_number</th>\n",
       "      <th>ploidy</th>\n",
       "      <th>ensembl</th>\n",
       "      <th>gene_symbol</th>\n",
       "      <th>cytoband</th>\n",
       "      <th>pedcbio_status</th>\n",
       "    </tr>\n",
       "  </thead>\n",
       "  <tbody>\n",
       "    <tr>\n",
       "      <th>0</th>\n",
       "      <td>BS_007JTNB8</td>\n",
       "      <td>loss</td>\n",
       "      <td>1</td>\n",
       "      <td>2.0</td>\n",
       "      <td>ENSG00000185904</td>\n",
       "      <td>LINC00839</td>\n",
       "      <td>10q11.21</td>\n",
       "      <td>-1.0</td>\n",
       "    </tr>\n",
       "    <tr>\n",
       "      <th>1</th>\n",
       "      <td>BS_007JTNB8</td>\n",
       "      <td>loss</td>\n",
       "      <td>1</td>\n",
       "      <td>2.0</td>\n",
       "      <td>ENSG00000165733</td>\n",
       "      <td>BMS1</td>\n",
       "      <td>10q11.21</td>\n",
       "      <td>-1.0</td>\n",
       "    </tr>\n",
       "    <tr>\n",
       "      <th>2</th>\n",
       "      <td>BS_007JTNB8</td>\n",
       "      <td>loss</td>\n",
       "      <td>1</td>\n",
       "      <td>2.0</td>\n",
       "      <td>ENSG00000234944</td>\n",
       "      <td>LINC02623</td>\n",
       "      <td>10q11.21</td>\n",
       "      <td>-1.0</td>\n",
       "    </tr>\n",
       "    <tr>\n",
       "      <th>3</th>\n",
       "      <td>BS_007JTNB8</td>\n",
       "      <td>loss</td>\n",
       "      <td>1</td>\n",
       "      <td>2.0</td>\n",
       "      <td>ENSG00000263795</td>\n",
       "      <td>MIR5100</td>\n",
       "      <td>10q11.21</td>\n",
       "      <td>-1.0</td>\n",
       "    </tr>\n",
       "    <tr>\n",
       "      <th>4</th>\n",
       "      <td>BS_007JTNB8</td>\n",
       "      <td>loss</td>\n",
       "      <td>1</td>\n",
       "      <td>2.0</td>\n",
       "      <td>ENSG00000165731</td>\n",
       "      <td>RET</td>\n",
       "      <td>10q11.21</td>\n",
       "      <td>-1.0</td>\n",
       "    </tr>\n",
       "  </tbody>\n",
       "</table>\n",
       "</div>"
      ],
      "text/plain": [
       "  biospecimen_id status  copy_number  ploidy          ensembl gene_symbol  \\\n",
       "0    BS_007JTNB8   loss            1     2.0  ENSG00000185904   LINC00839   \n",
       "1    BS_007JTNB8   loss            1     2.0  ENSG00000165733        BMS1   \n",
       "2    BS_007JTNB8   loss            1     2.0  ENSG00000234944   LINC02623   \n",
       "3    BS_007JTNB8   loss            1     2.0  ENSG00000263795     MIR5100   \n",
       "4    BS_007JTNB8   loss            1     2.0  ENSG00000165731         RET   \n",
       "\n",
       "   cytoband  pedcbio_status  \n",
       "0  10q11.21            -1.0  \n",
       "1  10q11.21            -1.0  \n",
       "2  10q11.21            -1.0  \n",
       "3  10q11.21            -1.0  \n",
       "4  10q11.21            -1.0  "
      ]
     },
     "execution_count": 19,
     "metadata": {},
     "output_type": "execute_result"
    }
   ],
   "source": [
    "auto_seg['pedcbio_status'] = auto_seg['status'].replace(['deep deletion','loss','neutral','gain','amplification'], [-2,-1,0,1,2])\n",
    "auto_seg.head()"
   ]
  },
  {
   "cell_type": "code",
   "execution_count": 20,
   "metadata": {},
   "outputs": [
    {
     "data": {
      "text/html": [
       "<div>\n",
       "<style scoped>\n",
       "    .dataframe tbody tr th:only-of-type {\n",
       "        vertical-align: middle;\n",
       "    }\n",
       "\n",
       "    .dataframe tbody tr th {\n",
       "        vertical-align: top;\n",
       "    }\n",
       "\n",
       "    .dataframe thead th {\n",
       "        text-align: right;\n",
       "    }\n",
       "</style>\n",
       "<table border=\"1\" class=\"dataframe\">\n",
       "  <thead>\n",
       "    <tr style=\"text-align: right;\">\n",
       "      <th></th>\n",
       "      <th>biospecimen_id</th>\n",
       "      <th>status</th>\n",
       "      <th>copy_number</th>\n",
       "      <th>ploidy</th>\n",
       "      <th>ensembl</th>\n",
       "      <th>gene_symbol</th>\n",
       "      <th>cytoband</th>\n",
       "      <th>germline_sex_estimate</th>\n",
       "      <th>pedcbio_status</th>\n",
       "    </tr>\n",
       "  </thead>\n",
       "  <tbody>\n",
       "    <tr>\n",
       "      <th>0</th>\n",
       "      <td>BS_00TRPEQX</td>\n",
       "      <td>loss</td>\n",
       "      <td>2</td>\n",
       "      <td>3.0</td>\n",
       "      <td>ENSG00000181704</td>\n",
       "      <td>YIPF6</td>\n",
       "      <td>Xq12-q13.1</td>\n",
       "      <td>Female</td>\n",
       "      <td>-1</td>\n",
       "    </tr>\n",
       "    <tr>\n",
       "      <th>1</th>\n",
       "      <td>BS_00TRPEQX</td>\n",
       "      <td>loss</td>\n",
       "      <td>2</td>\n",
       "      <td>3.0</td>\n",
       "      <td>ENSG00000181704</td>\n",
       "      <td>YIPF6</td>\n",
       "      <td>Xq12-q13.1</td>\n",
       "      <td>Female</td>\n",
       "      <td>-1</td>\n",
       "    </tr>\n",
       "    <tr>\n",
       "      <th>2</th>\n",
       "      <td>BS_00TRPEQX</td>\n",
       "      <td>loss</td>\n",
       "      <td>2</td>\n",
       "      <td>3.0</td>\n",
       "      <td>ENSG00000130052</td>\n",
       "      <td>STARD8</td>\n",
       "      <td>Xq13.1</td>\n",
       "      <td>Female</td>\n",
       "      <td>-1</td>\n",
       "    </tr>\n",
       "    <tr>\n",
       "      <th>3</th>\n",
       "      <td>BS_00TRPEQX</td>\n",
       "      <td>loss</td>\n",
       "      <td>2</td>\n",
       "      <td>3.0</td>\n",
       "      <td>ENSG00000130052</td>\n",
       "      <td>STARD8</td>\n",
       "      <td>Xq13.1</td>\n",
       "      <td>Female</td>\n",
       "      <td>-1</td>\n",
       "    </tr>\n",
       "    <tr>\n",
       "      <th>4</th>\n",
       "      <td>BS_00TRPEQX</td>\n",
       "      <td>loss</td>\n",
       "      <td>2</td>\n",
       "      <td>3.0</td>\n",
       "      <td>ENSG00000090776</td>\n",
       "      <td>EFNB1</td>\n",
       "      <td>Xq13.1</td>\n",
       "      <td>Female</td>\n",
       "      <td>-1</td>\n",
       "    </tr>\n",
       "  </tbody>\n",
       "</table>\n",
       "</div>"
      ],
      "text/plain": [
       "  biospecimen_id status  copy_number  ploidy          ensembl gene_symbol  \\\n",
       "0    BS_00TRPEQX   loss            2     3.0  ENSG00000181704       YIPF6   \n",
       "1    BS_00TRPEQX   loss            2     3.0  ENSG00000181704       YIPF6   \n",
       "2    BS_00TRPEQX   loss            2     3.0  ENSG00000130052      STARD8   \n",
       "3    BS_00TRPEQX   loss            2     3.0  ENSG00000130052      STARD8   \n",
       "4    BS_00TRPEQX   loss            2     3.0  ENSG00000090776       EFNB1   \n",
       "\n",
       "     cytoband germline_sex_estimate pedcbio_status  \n",
       "0  Xq12-q13.1                Female             -1  \n",
       "1  Xq12-q13.1                Female             -1  \n",
       "2      Xq13.1                Female             -1  \n",
       "3      Xq13.1                Female             -1  \n",
       "4      Xq13.1                Female             -1  "
      ]
     },
     "execution_count": 20,
     "metadata": {},
     "output_type": "execute_result"
    }
   ],
   "source": [
    "xy_seg['pedcbio_status'] = xy_seg['status'].replace(['deep deletion','loss','nuetral','gain'], [-2,-1,0,1])\n",
    "xy_seg.head()"
   ]
  },
  {
   "cell_type": "markdown",
   "metadata": {},
   "source": [
    "### Merge and save file"
   ]
  },
  {
   "cell_type": "code",
   "execution_count": 21,
   "metadata": {},
   "outputs": [],
   "source": [
    "# remove germline_sex_estimate from xy seg file\n",
    "xy_seg=xy_seg.drop(['germline_sex_estimate'],axis =1)\n",
    "# merge\n",
    "consensus_seg_concat = pd.concat([auto_seg, xy_seg], axis=0)"
   ]
  },
  {
   "cell_type": "code",
   "execution_count": 22,
   "metadata": {},
   "outputs": [],
   "source": [
    "consensus_seg_concat.to_csv(\"results/consensus_seg_annotated_cn_autosomes_xy.tsv.gz\",index=False, sep=\"\\t\")"
   ]
  }
 ],
 "metadata": {
  "kernelspec": {
   "display_name": "Python 3",
   "language": "python",
   "name": "python3"
  },
  "language_info": {
   "codemirror_mode": {
    "name": "ipython",
    "version": 3
   },
   "file_extension": ".py",
   "mimetype": "text/x-python",
   "name": "python",
   "nbconvert_exporter": "python",
   "pygments_lexer": "ipython3",
   "version": "3.7.1"
  }
 },
 "nbformat": 4,
 "nbformat_minor": 2
}
